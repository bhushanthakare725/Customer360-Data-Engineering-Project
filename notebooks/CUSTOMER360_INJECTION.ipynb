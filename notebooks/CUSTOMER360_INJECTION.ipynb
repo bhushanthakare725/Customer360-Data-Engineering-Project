{
 "cells": [
  {
   "cell_type": "markdown",
   "metadata": {
    "application/vnd.databricks.v1+cell": {
     "cellMetadata": {
      "byteLimit": 2048000,
      "rowLimit": 10000
     },
     "inputWidgets": {},
     "nuid": "670e5319-cc10-438b-99e3-5f9c61206e7f",
     "showTitle": false,
     "tableResultSettingsMap": {},
     "title": ""
    }
   },
   "source": [
    "LOAD CSV INTO DATAFRAME"
   ]
  },
  {
   "cell_type": "code",
   "execution_count": 0,
   "metadata": {
    "application/vnd.databricks.v1+cell": {
     "cellMetadata": {
      "byteLimit": 2048000,
      "rowLimit": 10000
     },
     "inputWidgets": {},
     "nuid": "b414bc2e-d606-4ca0-b7ee-7cd14f7bbff5",
     "showTitle": false,
     "tableResultSettingsMap": {},
     "title": ""
    }
   },
   "outputs": [
    {
     "output_type": "stream",
     "name": "stdout",
     "output_type": "stream",
     "text": [
      "root\n |-- customer_id: integer (nullable = true)\n |-- name: string (nullable = true)\n |-- email: string (nullable = true)\n |-- phone: long (nullable = true)\n |-- city: string (nullable = true)\n\n+-----------+--------+----------------+----------+------+\n|customer_id|    name|           email|     phone|  city|\n+-----------+--------+----------------+----------+------+\n|        101|John Doe|john@example.com|1234567890|Mumbai|\n+-----------+--------+----------------+----------+------+\nonly showing top 1 row\n\n"
     ]
    }
   ],
   "source": [
    "# Read customers.csv file from FileStore\n",
    "customer_df = spark.read.option(\"header\", True).option(\"inferSchema\", True).csv(\"/FileStore/tables/customers.csv\")\n",
    "\n",
    "# Show schema\n",
    "customer_df.printSchema()\n",
    "\n",
    "# Show sample records\n",
    "customer_df.show(1)\n"
   ]
  },
  {
   "cell_type": "code",
   "execution_count": 0,
   "metadata": {
    "application/vnd.databricks.v1+cell": {
     "cellMetadata": {
      "byteLimit": 2048000,
      "rowLimit": 10000
     },
     "inputWidgets": {},
     "nuid": "a9a83f20-0f50-469f-8c8a-390c0a6bf3c5",
     "showTitle": false,
     "tableResultSettingsMap": {},
     "title": ""
    }
   },
   "outputs": [
    {
     "output_type": "stream",
     "name": "stdout",
     "output_type": "stream",
     "text": [
      "root\n |-- customer_id: integer (nullable = true)\n |-- name: string (nullable = true)\n |-- email: string (nullable = true)\n |-- phone: long (nullable = true)\n |-- city: string (nullable = true)\n\n+-----------+-----------+----------------+----------+------+\n|customer_id|       name|           email|     phone|  city|\n+-----------+-----------+----------------+----------+------+\n|        101|   John Doe|john@example.com|1234567890|Mumbai|\n|        102| Jane Smith|jane@example.com|2345678901|  Pune|\n|        103|Bob Johnson| bob@example.com|3456789012|Nagpur|\n+-----------+-----------+----------------+----------+------+\n\n"
     ]
    }
   ],
   "source": [
    "customer_df_clean=customer_df.dropna(how=\"all\")\n",
    "customer_df.printSchema()\n",
    "customer_df_clean.show()"
   ]
  },
  {
   "cell_type": "code",
   "execution_count": 0,
   "metadata": {
    "application/vnd.databricks.v1+cell": {
     "cellMetadata": {
      "byteLimit": 2048000,
      "rowLimit": 10000
     },
     "inputWidgets": {},
     "nuid": "780e2e86-c625-462b-98e2-25993ff4fa5b",
     "showTitle": false,
     "tableResultSettingsMap": {},
     "title": ""
    }
   },
   "outputs": [
    {
     "output_type": "stream",
     "name": "stdout",
     "output_type": "stream",
     "text": [
      "+-----------+----+-----+-----+----+\n|customer_id|name|email|phone|city|\n+-----------+----+-----+-----+----+\n|          0|   0|    0|    0|   0|\n+-----------+----+-----+-----+----+\n\n"
     ]
    }
   ],
   "source": [
    "from pyspark.sql.functions import col,sum,when\n",
    "null_count=customer_df.select([\n",
    "    sum(when(col(c).isNull(),1).otherwise(0)).alias(c)\n",
    "    for c in customer_df.columns\n",
    "])\n",
    "null_count.show()"
   ]
  },
  {
   "cell_type": "code",
   "execution_count": 0,
   "metadata": {
    "application/vnd.databricks.v1+cell": {
     "cellMetadata": {
      "byteLimit": 2048000,
      "rowLimit": 10000
     },
     "inputWidgets": {},
     "nuid": "23e35b5d-1e30-425a-b2b1-9090b93cdb02",
     "showTitle": false,
     "tableResultSettingsMap": {},
     "title": ""
    }
   },
   "outputs": [
    {
     "output_type": "stream",
     "name": "stdout",
     "output_type": "stream",
     "text": [
      "+-----------+-----------+----------------+----------+------+\n|customer_id|       name|           email|     phone|  city|\n+-----------+-----------+----------------+----------+------+\n|        101|   John Doe|john@example.com|1234567890|Mumbai|\n|        102| Jane Smith|jane@example.com|2345678901|  Pune|\n|        103|Bob Johnson| bob@example.com|3456789012|Nagpur|\n+-----------+-----------+----------------+----------+------+\n\nroot\n |-- customer_id: integer (nullable = true)\n |-- name: string (nullable = true)\n |-- email: string (nullable = true)\n |-- phone: long (nullable = true)\n |-- city: string (nullable = true)\n\n"
     ]
    }
   ],
   "source": [
    "from pyspark.sql.functions import col\n",
    "customer_df_clean=customer_df.withColumn(\"customer_id\",col(\"customer_id\").cast(\"int\"))\n",
    "customer_df_clean.show()\n",
    "customer_df_clean.printSchema()\n"
   ]
  },
  {
   "cell_type": "code",
   "execution_count": 0,
   "metadata": {
    "application/vnd.databricks.v1+cell": {
     "cellMetadata": {
      "byteLimit": 2048000,
      "rowLimit": 10000
     },
     "inputWidgets": {},
     "nuid": "c14fe1ee-e2e9-482a-b64e-a0c7798a1bd7",
     "showTitle": false,
     "tableResultSettingsMap": {},
     "title": ""
    }
   },
   "outputs": [],
   "source": [
    "customer_df_clean.write.format(\"delta\").mode(\"overwrite\").save(\"/mnt/raw/customers_delta\")"
   ]
  },
  {
   "cell_type": "code",
   "execution_count": 0,
   "metadata": {
    "application/vnd.databricks.v1+cell": {
     "cellMetadata": {
      "byteLimit": 2048000,
      "rowLimit": 10000
     },
     "inputWidgets": {},
     "nuid": "31d37991-d051-46c4-a16b-33c0724d10f0",
     "showTitle": false,
     "tableResultSettingsMap": {},
     "title": ""
    }
   },
   "outputs": [
    {
     "output_type": "stream",
     "name": "stdout",
     "output_type": "stream",
     "text": [
      "root\n |-- customer_id: integer (nullable = true)\n |-- name: string (nullable = true)\n |-- email: string (nullable = true)\n |-- phone: long (nullable = true)\n |-- city: string (nullable = true)\n\n"
     ]
    }
   ],
   "source": [
    "customer_df_clean.printSchema()"
   ]
  },
  {
   "cell_type": "code",
   "execution_count": 0,
   "metadata": {
    "application/vnd.databricks.v1+cell": {
     "cellMetadata": {
      "byteLimit": 2048000,
      "rowLimit": 10000
     },
     "inputWidgets": {},
     "nuid": "6323e8c2-79de-4312-8e1e-f6fc33bb07bf",
     "showTitle": false,
     "tableResultSettingsMap": {},
     "title": ""
    }
   },
   "outputs": [
    {
     "output_type": "stream",
     "name": "stdout",
     "output_type": "stream",
     "text": [
      "+-----------+-----------+----------------+----------+------+\n|customer_id|       name|           email|     phone|  city|\n+-----------+-----------+----------------+----------+------+\n|        101|   John Doe|john@example.com|1234567890|Mumbai|\n|        102| Jane Smith|jane@example.com|2345678901|  Pune|\n|        103|Bob Johnson| bob@example.com|3456789012|Nagpur|\n+-----------+-----------+----------------+----------+------+\n\n"
     ]
    }
   ],
   "source": [
    "customer_df_clean.write.format(\"delta\").mode(\"overwrite\").partitionBy(\"city\").save(\"/mnt/raw/customers_delta_partition\")\n",
    "customer_df_clean.show()"
   ]
  },
  {
   "cell_type": "code",
   "execution_count": 0,
   "metadata": {
    "application/vnd.databricks.v1+cell": {
     "cellMetadata": {
      "byteLimit": 2048000,
      "rowLimit": 10000
     },
     "inputWidgets": {},
     "nuid": "453298af-a9e3-4981-9c41-d5e3e567b04b",
     "showTitle": false,
     "tableResultSettingsMap": {},
     "title": ""
    }
   },
   "outputs": [
    {
     "output_type": "display_data",
     "data": {
      "text/html": [
       "<style scoped>\n",
       "  .table-result-container {\n",
       "    max-height: 300px;\n",
       "    overflow: auto;\n",
       "  }\n",
       "  table, th, td {\n",
       "    border: 1px solid black;\n",
       "    border-collapse: collapse;\n",
       "  }\n",
       "  th, td {\n",
       "    padding: 5px;\n",
       "  }\n",
       "  th {\n",
       "    text-align: left;\n",
       "  }\n",
       "</style><div class='table-result-container'><table class='table-result'><thead style='background-color: white'><tr><th>path</th><th>name</th><th>size</th><th>modificationTime</th></tr></thead><tbody><tr><td>dbfs:/mnt/raw/customers_delta_partition/_delta_log/</td><td>_delta_log/</td><td>0</td><td>0</td></tr><tr><td>dbfs:/mnt/raw/customers_delta_partition/city=Mumbai/</td><td>city=Mumbai/</td><td>0</td><td>0</td></tr><tr><td>dbfs:/mnt/raw/customers_delta_partition/city=Nagpur/</td><td>city=Nagpur/</td><td>0</td><td>0</td></tr><tr><td>dbfs:/mnt/raw/customers_delta_partition/city=Pune/</td><td>city=Pune/</td><td>0</td><td>0</td></tr></tbody></table></div>"
      ]
     },
     "metadata": {
      "application/vnd.databricks.v1+output": {
       "addedWidgets": {},
       "aggData": [],
       "aggError": "",
       "aggOverflow": false,
       "aggSchema": [],
       "aggSeriesLimitReached": false,
       "aggType": "",
       "arguments": {},
       "columnCustomDisplayInfos": {},
       "data": [
        [
         "dbfs:/mnt/raw/customers_delta_partition/_delta_log/",
         "_delta_log/",
         0,
         0
        ],
        [
         "dbfs:/mnt/raw/customers_delta_partition/city=Mumbai/",
         "city=Mumbai/",
         0,
         0
        ],
        [
         "dbfs:/mnt/raw/customers_delta_partition/city=Nagpur/",
         "city=Nagpur/",
         0,
         0
        ],
        [
         "dbfs:/mnt/raw/customers_delta_partition/city=Pune/",
         "city=Pune/",
         0,
         0
        ]
       ],
       "datasetInfos": [],
       "dbfsResultPath": null,
       "isJsonSchema": true,
       "metadata": {},
       "overflow": false,
       "plotOptions": {
        "customPlotOptions": {},
        "displayType": "table",
        "pivotAggregation": null,
        "pivotColumns": null,
        "xColumns": null,
        "yColumns": null
       },
       "removedWidgets": [],
       "schema": [
        {
         "metadata": "{}",
         "name": "path",
         "type": "\"string\""
        },
        {
         "metadata": "{}",
         "name": "name",
         "type": "\"string\""
        },
        {
         "metadata": "{}",
         "name": "size",
         "type": "\"long\""
        },
        {
         "metadata": "{}",
         "name": "modificationTime",
         "type": "\"long\""
        }
       ],
       "type": "table"
      }
     },
     "output_type": "display_data"
    }
   ],
   "source": [
    "display(dbutils.fs.ls(\"/mnt/raw/customers_delta_partition\"))"
   ]
  },
  {
   "cell_type": "code",
   "execution_count": 0,
   "metadata": {
    "application/vnd.databricks.v1+cell": {
     "cellMetadata": {
      "byteLimit": 2048000,
      "rowLimit": 10000
     },
     "inputWidgets": {},
     "nuid": "18ee9659-2b03-493b-ac02-1e3bb6679691",
     "showTitle": false,
     "tableResultSettingsMap": {},
     "title": ""
    }
   },
   "outputs": [
    {
     "output_type": "stream",
     "name": "stdout",
     "output_type": "stream",
     "text": [
      "+-------+-------------------+----------------+--------------------------+---------+--------------------------------------------+----+------------------+--------------------+-----------+-----------------+-------------+-----------------------------------------------------------+------------+-----------------------------------+\n|version|timestamp          |userId          |userName                  |operation|operationParameters                         |job |notebook          |clusterId           |readVersion|isolationLevel   |isBlindAppend|operationMetrics                                           |userMetadata|engineInfo                         |\n+-------+-------------------+----------------+--------------------------+---------+--------------------------------------------+----+------------------+--------------------+-----------+-----------------+-------------+-----------------------------------------------------------+------------+-----------------------------------+\n|8      |2025-06-25 09:36:36|7842799562718228|bhushanadthakare@gmail.com|WRITE    |{mode -> Overwrite, partitionBy -> [\"city\"]}|null|{3968775251614904}|0625-093344-wxwgou6u|7          |WriteSerializable|false        |{numFiles -> 3, numOutputRows -> 3, numOutputBytes -> 4335}|null        |Databricks-Runtime/12.2.x-scala2.12|\n|7      |2025-06-24 09:18:06|7842799562718228|bhushanadthakare@gmail.com|WRITE    |{mode -> Overwrite, partitionBy -> [\"city\"]}|null|{3968775251614904}|0624-091508-e9eedpby|6          |WriteSerializable|false        |{numFiles -> 3, numOutputRows -> 3, numOutputBytes -> 4335}|null        |Databricks-Runtime/12.2.x-scala2.12|\n|6      |2025-06-23 10:43:14|7842799562718228|bhushanadthakare@gmail.com|WRITE    |{mode -> Overwrite, partitionBy -> [\"city\"]}|null|{3968775251614904}|0623-100200-yfox1w0r|5          |WriteSerializable|false        |{numFiles -> 3, numOutputRows -> 3, numOutputBytes -> 4335}|null        |Databricks-Runtime/12.2.x-scala2.12|\n|5      |2025-06-23 10:34:12|7842799562718228|bhushanadthakare@gmail.com|WRITE    |{mode -> Overwrite, partitionBy -> [\"city\"]}|null|{3968775251614904}|0623-100200-yfox1w0r|4          |WriteSerializable|false        |{numFiles -> 3, numOutputRows -> 3, numOutputBytes -> 4335}|null        |Databricks-Runtime/12.2.x-scala2.12|\n|4      |2025-06-23 10:26:10|7842799562718228|bhushanadthakare@gmail.com|WRITE    |{mode -> Overwrite, partitionBy -> [\"city\"]}|null|{3968775251614904}|0623-100200-yfox1w0r|3          |WriteSerializable|false        |{numFiles -> 3, numOutputRows -> 3, numOutputBytes -> 4335}|null        |Databricks-Runtime/12.2.x-scala2.12|\n|3      |2025-06-22 13:29:40|7842799562718228|bhushanadthakare@gmail.com|WRITE    |{mode -> Overwrite, partitionBy -> [\"city\"]}|null|{3968775251614904}|0622-131952-d6lrb3yx|2          |WriteSerializable|false        |{numFiles -> 3, numOutputRows -> 3, numOutputBytes -> 4335}|null        |Databricks-Runtime/12.2.x-scala2.12|\n|2      |2025-06-22 13:22:45|7842799562718228|bhushanadthakare@gmail.com|WRITE    |{mode -> Overwrite, partitionBy -> [\"city\"]}|null|{3968775251614904}|0622-131952-d6lrb3yx|1          |WriteSerializable|false        |{numFiles -> 3, numOutputRows -> 3, numOutputBytes -> 4335}|null        |Databricks-Runtime/12.2.x-scala2.12|\n|1      |2025-06-22 13:22:25|7842799562718228|bhushanadthakare@gmail.com|WRITE    |{mode -> Overwrite, partitionBy -> [\"city\"]}|null|{3968775251614904}|0622-131952-d6lrb3yx|0          |WriteSerializable|false        |{numFiles -> 3, numOutputRows -> 3, numOutputBytes -> 4335}|null        |Databricks-Runtime/12.2.x-scala2.12|\n|0      |2025-06-12 08:05:28|7842799562718228|bhushanadthakare@gmail.com|WRITE    |{mode -> Overwrite, partitionBy -> [\"city\"]}|null|{3968775251614904}|0612-075645-m9gzo1w7|null       |WriteSerializable|false        |{numFiles -> 3, numOutputRows -> 3, numOutputBytes -> 4335}|null        |Databricks-Runtime/12.2.x-scala2.12|\n+-------+-------------------+----------------+--------------------------+---------+--------------------------------------------+----+------------------+--------------------+-----------+-----------------+-------------+-----------------------------------------------------------+------------+-----------------------------------+\n\n"
     ]
    }
   ],
   "source": [
    "from delta.tables import DeltaTable\n",
    "dt=DeltaTable.forPath(spark,\"/mnt/raw/customers_delta_partition\")\n",
    "dt.history().show(truncate=False)"
   ]
  },
  {
   "cell_type": "code",
   "execution_count": 0,
   "metadata": {
    "application/vnd.databricks.v1+cell": {
     "cellMetadata": {
      "byteLimit": 2048000,
      "rowLimit": 10000
     },
     "inputWidgets": {},
     "nuid": "64945ec5-ce46-4bbe-aabd-730fe1f250ec",
     "showTitle": false,
     "tableResultSettingsMap": {},
     "title": ""
    }
   },
   "outputs": [],
   "source": [
    "customers_df_clean = spark.read.format(\"delta\").load(\"/mnt/raw/customers_delta_partition\")\n",
    "vehicles_df = spark.read.format(\"delta\").load(\"/mnt/raw/vehicles_delta_partitioned\")"
   ]
  },
  {
   "cell_type": "code",
   "execution_count": 0,
   "metadata": {
    "application/vnd.databricks.v1+cell": {
     "cellMetadata": {
      "byteLimit": 2048000,
      "rowLimit": 10000
     },
     "inputWidgets": {},
     "nuid": "5f08594d-0fbe-465a-b3f7-5fd99bf5f5b7",
     "showTitle": false,
     "tableResultSettingsMap": {},
     "title": ""
    }
   },
   "outputs": [],
   "source": [
    "\n",
    "customer_360_df = customers_df_clean.join(vehicles_df, \"customer_id\", \"inner\")"
   ]
  },
  {
   "cell_type": "code",
   "execution_count": 0,
   "metadata": {
    "application/vnd.databricks.v1+cell": {
     "cellMetadata": {
      "byteLimit": 2048000,
      "rowLimit": 10000
     },
     "inputWidgets": {},
     "nuid": "b76ca9f7-3efb-45b6-aece-c5dc36eeb274",
     "showTitle": false,
     "tableResultSettingsMap": {},
     "title": ""
    }
   },
   "outputs": [],
   "source": [
    "customer_360_df.write.format('delta')\\\n",
    "                                     .mode(\"overwrite\")\\\n",
    "                                      .save('/mnt/curated/customer_360')"
   ]
  },
  {
   "cell_type": "code",
   "execution_count": 0,
   "metadata": {
    "application/vnd.databricks.v1+cell": {
     "cellMetadata": {
      "byteLimit": 2048000,
      "rowLimit": 10000
     },
     "inputWidgets": {},
     "nuid": "e9c76a7f-82e3-4908-8148-32851e47ee0c",
     "showTitle": false,
     "tableResultSettingsMap": {},
     "title": ""
    }
   },
   "outputs": [
    {
     "output_type": "display_data",
     "data": {
      "text/html": [
       "<style scoped>\n",
       "  .table-result-container {\n",
       "    max-height: 300px;\n",
       "    overflow: auto;\n",
       "  }\n",
       "  table, th, td {\n",
       "    border: 1px solid black;\n",
       "    border-collapse: collapse;\n",
       "  }\n",
       "  th, td {\n",
       "    padding: 5px;\n",
       "  }\n",
       "  th {\n",
       "    text-align: left;\n",
       "  }\n",
       "</style><div class='table-result-container'><table class='table-result'><thead style='background-color: white'><tr><th>path</th><th>name</th><th>size</th><th>modificationTime</th></tr></thead><tbody><tr><td>dbfs:/mnt/curated/customer_360/_delta_log/</td><td>_delta_log/</td><td>0</td><td>0</td></tr><tr><td>dbfs:/mnt/curated/customer_360/part-00000-017f0ce5-4f96-4739-abbd-d33a392be53f-c000.snappy.parquet</td><td>part-00000-017f0ce5-4f96-4739-abbd-d33a392be53f-c000.snappy.parquet</td><td>2639</td><td>1750661886000</td></tr><tr><td>dbfs:/mnt/curated/customer_360/part-00000-05fd63a5-dc33-42f9-ad4c-1d5c9308a4b3-c000.snappy.parquet</td><td>part-00000-05fd63a5-dc33-42f9-ad4c-1d5c9308a4b3-c000.snappy.parquet</td><td>2639</td><td>1750674869000</td></tr><tr><td>dbfs:/mnt/curated/customer_360/part-00000-0fbfe2ed-caad-4cb4-9bbb-457fd2065d25-c000.snappy.parquet</td><td>part-00000-0fbfe2ed-caad-4cb4-9bbb-457fd2065d25-c000.snappy.parquet</td><td>2639</td><td>1750756709000</td></tr><tr><td>dbfs:/mnt/curated/customer_360/part-00000-2882a408-6c91-410e-8168-89143983e2ef-c000.snappy.parquet</td><td>part-00000-2882a408-6c91-410e-8168-89143983e2ef-c000.snappy.parquet</td><td>2639</td><td>1750844218000</td></tr><tr><td>dbfs:/mnt/curated/customer_360/part-00000-32daf787-39c8-4ceb-a28c-179d125363fe-c000.snappy.parquet</td><td>part-00000-32daf787-39c8-4ceb-a28c-179d125363fe-c000.snappy.parquet</td><td>2639</td><td>1750675402000</td></tr><tr><td>dbfs:/mnt/curated/customer_360/part-00000-a8a84aa1-786b-4e54-89d3-ff644ccac3ee-c000.snappy.parquet</td><td>part-00000-a8a84aa1-786b-4e54-89d3-ff644ccac3ee-c000.snappy.parquet</td><td>2639</td><td>1750600140000</td></tr><tr><td>dbfs:/mnt/curated/customer_360/part-00000-ce049315-512a-4be9-a3b5-92ac27fca8c6-c000.snappy.parquet</td><td>part-00000-ce049315-512a-4be9-a3b5-92ac27fca8c6-c000.snappy.parquet</td><td>2639</td><td>1750683738000</td></tr><tr><td>dbfs:/mnt/curated/customer_360/part-00001-282a24a5-2434-4751-8361-a7d5544e4c24-c000.snappy.parquet</td><td>part-00001-282a24a5-2434-4751-8361-a7d5544e4c24-c000.snappy.parquet</td><td>2639</td><td>1750675402000</td></tr><tr><td>dbfs:/mnt/curated/customer_360/part-00001-807153d0-885a-4cae-8241-d3c2da31f01c-c000.snappy.parquet</td><td>part-00001-807153d0-885a-4cae-8241-d3c2da31f01c-c000.snappy.parquet</td><td>2639</td><td>1750844218000</td></tr><tr><td>dbfs:/mnt/curated/customer_360/part-00001-96bd1bbd-533f-4025-9297-f003bbc3b211-c000.snappy.parquet</td><td>part-00001-96bd1bbd-533f-4025-9297-f003bbc3b211-c000.snappy.parquet</td><td>2639</td><td>1750674869000</td></tr><tr><td>dbfs:/mnt/curated/customer_360/part-00001-9f5d0684-c0fc-470f-857d-ad405c4fc6ca-c000.snappy.parquet</td><td>part-00001-9f5d0684-c0fc-470f-857d-ad405c4fc6ca-c000.snappy.parquet</td><td>2639</td><td>1750683738000</td></tr><tr><td>dbfs:/mnt/curated/customer_360/part-00001-a4b12c3c-461f-47e6-93da-b2cc22d61124-c000.snappy.parquet</td><td>part-00001-a4b12c3c-461f-47e6-93da-b2cc22d61124-c000.snappy.parquet</td><td>2639</td><td>1750600140000</td></tr><tr><td>dbfs:/mnt/curated/customer_360/part-00001-bfcf837f-f92a-4bed-b3ef-ae9af5706384-c000.snappy.parquet</td><td>part-00001-bfcf837f-f92a-4bed-b3ef-ae9af5706384-c000.snappy.parquet</td><td>2639</td><td>1750756709000</td></tr><tr><td>dbfs:/mnt/curated/customer_360/part-00001-f033997c-4c76-439d-a2e2-aff040d5bf62-c000.snappy.parquet</td><td>part-00001-f033997c-4c76-439d-a2e2-aff040d5bf62-c000.snappy.parquet</td><td>2639</td><td>1750661886000</td></tr><tr><td>dbfs:/mnt/curated/customer_360/part-00002-2920818b-5154-492b-89d9-411d66cde0bc-c000.snappy.parquet</td><td>part-00002-2920818b-5154-492b-89d9-411d66cde0bc-c000.snappy.parquet</td><td>2630</td><td>1750844218000</td></tr><tr><td>dbfs:/mnt/curated/customer_360/part-00002-2fd523d5-e3cb-4da0-a064-e03de8d83de4-c000.snappy.parquet</td><td>part-00002-2fd523d5-e3cb-4da0-a064-e03de8d83de4-c000.snappy.parquet</td><td>2630</td><td>1750661886000</td></tr><tr><td>dbfs:/mnt/curated/customer_360/part-00002-55aaf944-e2aa-468c-a0e5-9b95d2884b89-c000.snappy.parquet</td><td>part-00002-55aaf944-e2aa-468c-a0e5-9b95d2884b89-c000.snappy.parquet</td><td>2630</td><td>1750674869000</td></tr><tr><td>dbfs:/mnt/curated/customer_360/part-00002-80432761-3036-4837-98d5-ee5db172f61a-c000.snappy.parquet</td><td>part-00002-80432761-3036-4837-98d5-ee5db172f61a-c000.snappy.parquet</td><td>2630</td><td>1750683738000</td></tr><tr><td>dbfs:/mnt/curated/customer_360/part-00002-a62de5cc-7fcf-4786-9525-1f67109e9bcb-c000.snappy.parquet</td><td>part-00002-a62de5cc-7fcf-4786-9525-1f67109e9bcb-c000.snappy.parquet</td><td>2630</td><td>1750600140000</td></tr><tr><td>dbfs:/mnt/curated/customer_360/part-00002-b80bcbb5-9090-4827-b69b-1a87eed2cf11-c000.snappy.parquet</td><td>part-00002-b80bcbb5-9090-4827-b69b-1a87eed2cf11-c000.snappy.parquet</td><td>2630</td><td>1750675402000</td></tr><tr><td>dbfs:/mnt/curated/customer_360/part-00002-bf4b74d0-275f-4faf-8fa4-6d3487068476-c000.snappy.parquet</td><td>part-00002-bf4b74d0-275f-4faf-8fa4-6d3487068476-c000.snappy.parquet</td><td>2630</td><td>1750756709000</td></tr></tbody></table></div>"
      ]
     },
     "metadata": {
      "application/vnd.databricks.v1+output": {
       "addedWidgets": {},
       "aggData": [],
       "aggError": "",
       "aggOverflow": false,
       "aggSchema": [],
       "aggSeriesLimitReached": false,
       "aggType": "",
       "arguments": {},
       "columnCustomDisplayInfos": {},
       "data": [
        [
         "dbfs:/mnt/curated/customer_360/_delta_log/",
         "_delta_log/",
         0,
         0
        ],
        [
         "dbfs:/mnt/curated/customer_360/part-00000-017f0ce5-4f96-4739-abbd-d33a392be53f-c000.snappy.parquet",
         "part-00000-017f0ce5-4f96-4739-abbd-d33a392be53f-c000.snappy.parquet",
         2639,
         1750661886000
        ],
        [
         "dbfs:/mnt/curated/customer_360/part-00000-05fd63a5-dc33-42f9-ad4c-1d5c9308a4b3-c000.snappy.parquet",
         "part-00000-05fd63a5-dc33-42f9-ad4c-1d5c9308a4b3-c000.snappy.parquet",
         2639,
         1750674869000
        ],
        [
         "dbfs:/mnt/curated/customer_360/part-00000-0fbfe2ed-caad-4cb4-9bbb-457fd2065d25-c000.snappy.parquet",
         "part-00000-0fbfe2ed-caad-4cb4-9bbb-457fd2065d25-c000.snappy.parquet",
         2639,
         1750756709000
        ],
        [
         "dbfs:/mnt/curated/customer_360/part-00000-2882a408-6c91-410e-8168-89143983e2ef-c000.snappy.parquet",
         "part-00000-2882a408-6c91-410e-8168-89143983e2ef-c000.snappy.parquet",
         2639,
         1750844218000
        ],
        [
         "dbfs:/mnt/curated/customer_360/part-00000-32daf787-39c8-4ceb-a28c-179d125363fe-c000.snappy.parquet",
         "part-00000-32daf787-39c8-4ceb-a28c-179d125363fe-c000.snappy.parquet",
         2639,
         1750675402000
        ],
        [
         "dbfs:/mnt/curated/customer_360/part-00000-a8a84aa1-786b-4e54-89d3-ff644ccac3ee-c000.snappy.parquet",
         "part-00000-a8a84aa1-786b-4e54-89d3-ff644ccac3ee-c000.snappy.parquet",
         2639,
         1750600140000
        ],
        [
         "dbfs:/mnt/curated/customer_360/part-00000-ce049315-512a-4be9-a3b5-92ac27fca8c6-c000.snappy.parquet",
         "part-00000-ce049315-512a-4be9-a3b5-92ac27fca8c6-c000.snappy.parquet",
         2639,
         1750683738000
        ],
        [
         "dbfs:/mnt/curated/customer_360/part-00001-282a24a5-2434-4751-8361-a7d5544e4c24-c000.snappy.parquet",
         "part-00001-282a24a5-2434-4751-8361-a7d5544e4c24-c000.snappy.parquet",
         2639,
         1750675402000
        ],
        [
         "dbfs:/mnt/curated/customer_360/part-00001-807153d0-885a-4cae-8241-d3c2da31f01c-c000.snappy.parquet",
         "part-00001-807153d0-885a-4cae-8241-d3c2da31f01c-c000.snappy.parquet",
         2639,
         1750844218000
        ],
        [
         "dbfs:/mnt/curated/customer_360/part-00001-96bd1bbd-533f-4025-9297-f003bbc3b211-c000.snappy.parquet",
         "part-00001-96bd1bbd-533f-4025-9297-f003bbc3b211-c000.snappy.parquet",
         2639,
         1750674869000
        ],
        [
         "dbfs:/mnt/curated/customer_360/part-00001-9f5d0684-c0fc-470f-857d-ad405c4fc6ca-c000.snappy.parquet",
         "part-00001-9f5d0684-c0fc-470f-857d-ad405c4fc6ca-c000.snappy.parquet",
         2639,
         1750683738000
        ],
        [
         "dbfs:/mnt/curated/customer_360/part-00001-a4b12c3c-461f-47e6-93da-b2cc22d61124-c000.snappy.parquet",
         "part-00001-a4b12c3c-461f-47e6-93da-b2cc22d61124-c000.snappy.parquet",
         2639,
         1750600140000
        ],
        [
         "dbfs:/mnt/curated/customer_360/part-00001-bfcf837f-f92a-4bed-b3ef-ae9af5706384-c000.snappy.parquet",
         "part-00001-bfcf837f-f92a-4bed-b3ef-ae9af5706384-c000.snappy.parquet",
         2639,
         1750756709000
        ],
        [
         "dbfs:/mnt/curated/customer_360/part-00001-f033997c-4c76-439d-a2e2-aff040d5bf62-c000.snappy.parquet",
         "part-00001-f033997c-4c76-439d-a2e2-aff040d5bf62-c000.snappy.parquet",
         2639,
         1750661886000
        ],
        [
         "dbfs:/mnt/curated/customer_360/part-00002-2920818b-5154-492b-89d9-411d66cde0bc-c000.snappy.parquet",
         "part-00002-2920818b-5154-492b-89d9-411d66cde0bc-c000.snappy.parquet",
         2630,
         1750844218000
        ],
        [
         "dbfs:/mnt/curated/customer_360/part-00002-2fd523d5-e3cb-4da0-a064-e03de8d83de4-c000.snappy.parquet",
         "part-00002-2fd523d5-e3cb-4da0-a064-e03de8d83de4-c000.snappy.parquet",
         2630,
         1750661886000
        ],
        [
         "dbfs:/mnt/curated/customer_360/part-00002-55aaf944-e2aa-468c-a0e5-9b95d2884b89-c000.snappy.parquet",
         "part-00002-55aaf944-e2aa-468c-a0e5-9b95d2884b89-c000.snappy.parquet",
         2630,
         1750674869000
        ],
        [
         "dbfs:/mnt/curated/customer_360/part-00002-80432761-3036-4837-98d5-ee5db172f61a-c000.snappy.parquet",
         "part-00002-80432761-3036-4837-98d5-ee5db172f61a-c000.snappy.parquet",
         2630,
         1750683738000
        ],
        [
         "dbfs:/mnt/curated/customer_360/part-00002-a62de5cc-7fcf-4786-9525-1f67109e9bcb-c000.snappy.parquet",
         "part-00002-a62de5cc-7fcf-4786-9525-1f67109e9bcb-c000.snappy.parquet",
         2630,
         1750600140000
        ],
        [
         "dbfs:/mnt/curated/customer_360/part-00002-b80bcbb5-9090-4827-b69b-1a87eed2cf11-c000.snappy.parquet",
         "part-00002-b80bcbb5-9090-4827-b69b-1a87eed2cf11-c000.snappy.parquet",
         2630,
         1750675402000
        ],
        [
         "dbfs:/mnt/curated/customer_360/part-00002-bf4b74d0-275f-4faf-8fa4-6d3487068476-c000.snappy.parquet",
         "part-00002-bf4b74d0-275f-4faf-8fa4-6d3487068476-c000.snappy.parquet",
         2630,
         1750756709000
        ]
       ],
       "datasetInfos": [],
       "dbfsResultPath": null,
       "isJsonSchema": true,
       "metadata": {},
       "overflow": false,
       "plotOptions": {
        "customPlotOptions": {},
        "displayType": "table",
        "pivotAggregation": null,
        "pivotColumns": null,
        "xColumns": null,
        "yColumns": null
       },
       "removedWidgets": [],
       "schema": [
        {
         "metadata": "{}",
         "name": "path",
         "type": "\"string\""
        },
        {
         "metadata": "{}",
         "name": "name",
         "type": "\"string\""
        },
        {
         "metadata": "{}",
         "name": "size",
         "type": "\"long\""
        },
        {
         "metadata": "{}",
         "name": "modificationTime",
         "type": "\"long\""
        }
       ],
       "type": "table"
      }
     },
     "output_type": "display_data"
    }
   ],
   "source": [
    "display(dbutils.fs.ls('/mnt/curated/customer_360'))"
   ]
  },
  {
   "cell_type": "code",
   "execution_count": 0,
   "metadata": {
    "application/vnd.databricks.v1+cell": {
     "cellMetadata": {
      "byteLimit": 2048000,
      "rowLimit": 10000
     },
     "inputWidgets": {},
     "nuid": "acf2b554-f1bf-4fc4-ad1e-b811ffa06e60",
     "showTitle": false,
     "tableResultSettingsMap": {},
     "title": ""
    }
   },
   "outputs": [],
   "source": [
    "customer_360_df=spark.read.format('delta') \\\n",
    "            .option(\"header\",'true')\\\n",
    "                .option(\"inferSchema\",'true')\\\n",
    "                .load('/mnt/curated/customer_360')"
   ]
  },
  {
   "cell_type": "code",
   "execution_count": 0,
   "metadata": {
    "application/vnd.databricks.v1+cell": {
     "cellMetadata": {
      "byteLimit": 2048000,
      "rowLimit": 10000
     },
     "inputWidgets": {},
     "nuid": "dd714cde-9e5a-471e-bb0b-49367089ba49",
     "showTitle": false,
     "tableResultSettingsMap": {},
     "title": ""
    }
   },
   "outputs": [
    {
     "output_type": "stream",
     "name": "stdout",
     "output_type": "stream",
     "text": [
      "+-----------+-----------+----------------+----------+------+----------+------+-----+----+\n|customer_id|       name|           email|     phone|  city|vehicle_id|  make|model|year|\n+-----------+-----------+----------------+----------+------+----------+------+-----+----+\n|        101|   John Doe|john@example.com|1234567890|Mumbai|         1|Toyota|Camry|2020|\n|        103|Bob Johnson| bob@example.com|3456789012|Nagpur|         3|  Ford|Focus|2019|\n|        102| Jane Smith|jane@example.com|2345678901|  Pune|         2| Honda|Civic|2021|\n+-----------+-----------+----------------+----------+------+----------+------+-----+----+\n\nroot\n |-- customer_id: integer (nullable = true)\n |-- name: string (nullable = true)\n |-- email: string (nullable = true)\n |-- phone: long (nullable = true)\n |-- city: string (nullable = true)\n |-- vehicle_id: integer (nullable = true)\n |-- make: string (nullable = true)\n |-- model: string (nullable = true)\n |-- year: integer (nullable = true)\n\n"
     ]
    }
   ],
   "source": [
    "customer_360_df.show()\n",
    "customer_360_df.printSchema()"
   ]
  },
  {
   "cell_type": "code",
   "execution_count": 0,
   "metadata": {
    "application/vnd.databricks.v1+cell": {
     "cellMetadata": {
      "byteLimit": 2048000,
      "rowLimit": 10000
     },
     "inputWidgets": {},
     "nuid": "56244698-f186-4578-9635-e9e82e9f6954",
     "showTitle": false,
     "tableResultSettingsMap": {},
     "title": ""
    }
   },
   "outputs": [
    {
     "output_type": "stream",
     "name": "stdout",
     "output_type": "stream",
     "text": [
      "+-----------+-----------+-------------+\n|customer_id|       name|vehicle_count|\n+-----------+-----------+-------------+\n|        103|Bob Johnson|            1|\n|        101|   John Doe|            1|\n|        102| Jane Smith|            1|\n+-----------+-----------+-------------+\n\n"
     ]
    }
   ],
   "source": [
    "from pyspark.sql.functions import count\n",
    "vehicalPerCustomer_df=customer_360_df.groupBy(\"customer_id\",\"name\")\\\n",
    "                    .agg(count(\"vehicle_id\").alias(\"vehicle_count\"))\n",
    "vehicalPerCustomer_df.show()"
   ]
  },
  {
   "cell_type": "code",
   "execution_count": 0,
   "metadata": {
    "application/vnd.databricks.v1+cell": {
     "cellMetadata": {
      "byteLimit": 2048000,
      "rowLimit": 10000
     },
     "inputWidgets": {},
     "nuid": "885d0f39-c52a-4a2c-8e10-20ed5a2322ab",
     "showTitle": false,
     "tableResultSettingsMap": {},
     "title": ""
    }
   },
   "outputs": [
    {
     "output_type": "stream",
     "name": "stdout",
     "output_type": "stream",
     "text": [
      "+-----------+--------+-------------+\n|customer_id|    name|vehicle_count|\n+-----------+--------+-------------+\n|        101|John Doe|            1|\n+-----------+--------+-------------+\n\n"
     ]
    }
   ],
   "source": [
    "vehicalPerCustomer_df.filter(\" name='John Doe' AND vehicle_count=1\").show()"
   ]
  },
  {
   "cell_type": "code",
   "execution_count": 0,
   "metadata": {
    "application/vnd.databricks.v1+cell": {
     "cellMetadata": {
      "byteLimit": 2048000,
      "rowLimit": 10000
     },
     "inputWidgets": {},
     "nuid": "f4f2c6c0-917a-4ffe-b34d-f5b9f075fbe6",
     "showTitle": false,
     "tableResultSettingsMap": {},
     "title": ""
    }
   },
   "outputs": [
    {
     "output_type": "stream",
     "name": "stdout",
     "output_type": "stream",
     "text": [
      "+------+----------------+\n|  city|vehicle_per_city|\n+------+----------------+\n|Nagpur|               1|\n|Mumbai|               1|\n|  Pune|               1|\n+------+----------------+\n\n"
     ]
    }
   ],
   "source": [
    "customer_360_df.groupBy(\"city\").agg(count('vehicle_id').alias('vehicle_per_city')).show()"
   ]
  },
  {
   "cell_type": "markdown",
   "metadata": {
    "application/vnd.databricks.v1+cell": {
     "cellMetadata": {
      "byteLimit": 2048000,
      "rowLimit": 10000
     },
     "inputWidgets": {},
     "nuid": "6a8eebfb-82e9-4871-aec3-9d13ca0ee470",
     "showTitle": false,
     "tableResultSettingsMap": {},
     "title": ""
    }
   },
   "source": [
    "GOLD LAYER CREATION\n",
    "****"
   ]
  },
  {
   "cell_type": "markdown",
   "metadata": {
    "application/vnd.databricks.v1+cell": {
     "cellMetadata": {
      "byteLimit": 2048000,
      "rowLimit": 10000
     },
     "inputWidgets": {},
     "nuid": "85b99b2a-de6e-44d7-80d8-51940bb14173",
     "showTitle": false,
     "tableResultSettingsMap": {},
     "title": ""
    }
   },
   "source": [
    "Step 1: Create the Aggregated DataFrame"
   ]
  },
  {
   "cell_type": "code",
   "execution_count": 0,
   "metadata": {
    "application/vnd.databricks.v1+cell": {
     "cellMetadata": {
      "byteLimit": 2048000,
      "rowLimit": 10000
     },
     "inputWidgets": {},
     "nuid": "9eb78833-1e28-4044-abae-99f892ef021d",
     "showTitle": false,
     "tableResultSettingsMap": {},
     "title": ""
    }
   },
   "outputs": [
    {
     "output_type": "stream",
     "name": "stdout",
     "output_type": "stream",
     "text": [
      "+-----------+-----------+------+-------------+\n|customer_id|       name|  city|vehicle_count|\n+-----------+-----------+------+-------------+\n|        103|Bob Johnson|Nagpur|            1|\n|        101|   John Doe|Mumbai|            1|\n|        102| Jane Smith|  Pune|            1|\n+-----------+-----------+------+-------------+\n\n"
     ]
    }
   ],
   "source": [
    "from pyspark.sql.functions import count\n",
    "vehicle_count_df=customer_360_df.groupBy('customer_id','name',\"city\").agg(count('vehicle_id').alias('vehicle_count'))\n",
    "vehicle_count_df.show()"
   ]
  },
  {
   "cell_type": "code",
   "execution_count": 0,
   "metadata": {
    "application/vnd.databricks.v1+cell": {
     "cellMetadata": {
      "byteLimit": 2048000,
      "rowLimit": 10000
     },
     "inputWidgets": {},
     "nuid": "c029584f-8090-4b04-8c6e-dbd1bb67d58d",
     "showTitle": false,
     "tableResultSettingsMap": {},
     "title": ""
    }
   },
   "outputs": [
    {
     "output_type": "display_data",
     "data": {
      "text/html": [
       "<style scoped>\n",
       "  .table-result-container {\n",
       "    max-height: 300px;\n",
       "    overflow: auto;\n",
       "  }\n",
       "  table, th, td {\n",
       "    border: 1px solid black;\n",
       "    border-collapse: collapse;\n",
       "  }\n",
       "  th, td {\n",
       "    padding: 5px;\n",
       "  }\n",
       "  th {\n",
       "    text-align: left;\n",
       "  }\n",
       "</style><div class='table-result-container'><table class='table-result'><thead style='background-color: white'><tr><th>path</th><th>name</th><th>size</th><th>modificationTime</th></tr></thead><tbody><tr><td>dbfs:/mnt/gold/customer_vehicle_count/_delta_log/</td><td>_delta_log/</td><td>0</td><td>0</td></tr><tr><td>dbfs:/mnt/gold/customer_vehicle_count/part-00000-01758f6e-ee21-4952-9406-40fc84f9d3d8-c000.snappy.parquet</td><td>part-00000-01758f6e-ee21-4952-9406-40fc84f9d3d8-c000.snappy.parquet</td><td>1198</td><td>1750684198000</td></tr><tr><td>dbfs:/mnt/gold/customer_vehicle_count/part-00000-07b80a7c-21ee-4e79-9b50-e1ffc0347ca8-c000.snappy.parquet</td><td>part-00000-07b80a7c-21ee-4e79-9b50-e1ffc0347ca8-c000.snappy.parquet</td><td>1198</td><td>1750684173000</td></tr><tr><td>dbfs:/mnt/gold/customer_vehicle_count/part-00000-14976840-006b-4dc0-a467-0b95e2e64d9e-c000.snappy.parquet</td><td>part-00000-14976840-006b-4dc0-a467-0b95e2e64d9e-c000.snappy.parquet</td><td>913</td><td>1750684858000</td></tr><tr><td>dbfs:/mnt/gold/customer_vehicle_count/part-00000-185898f4-b079-47b1-87c3-9e017f7e1425-c000.snappy.parquet</td><td>part-00000-185898f4-b079-47b1-87c3-9e017f7e1425-c000.snappy.parquet</td><td>1198</td><td>1750675366000</td></tr><tr><td>dbfs:/mnt/gold/customer_vehicle_count/part-00000-31ba8584-22ed-44bc-8a75-1d90d464081e-c000.snappy.parquet</td><td>part-00000-31ba8584-22ed-44bc-8a75-1d90d464081e-c000.snappy.parquet</td><td>922</td><td>1750668399000</td></tr><tr><td>dbfs:/mnt/gold/customer_vehicle_count/part-00000-3f559176-910a-47c3-81c1-ddd3b426d5c1-c000.snappy.parquet</td><td>part-00000-3f559176-910a-47c3-81c1-ddd3b426d5c1-c000.snappy.parquet</td><td>1198</td><td>1750685597000</td></tr><tr><td>dbfs:/mnt/gold/customer_vehicle_count/part-00000-9edfac4f-10f5-44fd-803a-f4737a735aef-c000.snappy.parquet</td><td>part-00000-9edfac4f-10f5-44fd-803a-f4737a735aef-c000.snappy.parquet</td><td>913</td><td>1750684419000</td></tr><tr><td>dbfs:/mnt/gold/customer_vehicle_count/part-00000-a3418094-9d67-4f5b-a9c1-20a924abe678-c000.snappy.parquet</td><td>part-00000-a3418094-9d67-4f5b-a9c1-20a924abe678-c000.snappy.parquet</td><td>1198</td><td>1750675418000</td></tr><tr><td>dbfs:/mnt/gold/customer_vehicle_count/part-00000-a5499ae2-3048-4b4a-8b36-ab283ddd3845-c000.snappy.parquet</td><td>part-00000-a5499ae2-3048-4b4a-8b36-ab283ddd3845-c000.snappy.parquet</td><td>913</td><td>1750684404000</td></tr><tr><td>dbfs:/mnt/gold/customer_vehicle_count/part-00000-e53ce15a-eaaa-45de-9c3b-e15c3075dc22-c000.snappy.parquet</td><td>part-00000-e53ce15a-eaaa-45de-9c3b-e15c3075dc22-c000.snappy.parquet</td><td>1442</td><td>1750686318000</td></tr><tr><td>dbfs:/mnt/gold/customer_vehicle_count/part-00000-f1d559a4-8bf0-435d-895e-579773893964-c000.snappy.parquet</td><td>part-00000-f1d559a4-8bf0-435d-895e-579773893964-c000.snappy.parquet</td><td>913</td><td>1750676453000</td></tr><tr><td>dbfs:/mnt/gold/customer_vehicle_count/part-00000-f2ecc7a8-756c-4ee3-a030-1597b01f69a1-c000.snappy.parquet</td><td>part-00000-f2ecc7a8-756c-4ee3-a030-1597b01f69a1-c000.snappy.parquet</td><td>1443</td><td>1750756730000</td></tr><tr><td>dbfs:/mnt/gold/customer_vehicle_count/part-00000-f8d3f9e5-a046-4a71-865d-25a605808ba8-c000.snappy.parquet</td><td>part-00000-f8d3f9e5-a046-4a71-865d-25a605808ba8-c000.snappy.parquet</td><td>1198</td><td>1750684236000</td></tr></tbody></table></div>"
      ]
     },
     "metadata": {
      "application/vnd.databricks.v1+output": {
       "addedWidgets": {},
       "aggData": [],
       "aggError": "",
       "aggOverflow": false,
       "aggSchema": [],
       "aggSeriesLimitReached": false,
       "aggType": "",
       "arguments": {},
       "columnCustomDisplayInfos": {},
       "data": [
        [
         "dbfs:/mnt/gold/customer_vehicle_count/_delta_log/",
         "_delta_log/",
         0,
         0
        ],
        [
         "dbfs:/mnt/gold/customer_vehicle_count/part-00000-01758f6e-ee21-4952-9406-40fc84f9d3d8-c000.snappy.parquet",
         "part-00000-01758f6e-ee21-4952-9406-40fc84f9d3d8-c000.snappy.parquet",
         1198,
         1750684198000
        ],
        [
         "dbfs:/mnt/gold/customer_vehicle_count/part-00000-07b80a7c-21ee-4e79-9b50-e1ffc0347ca8-c000.snappy.parquet",
         "part-00000-07b80a7c-21ee-4e79-9b50-e1ffc0347ca8-c000.snappy.parquet",
         1198,
         1750684173000
        ],
        [
         "dbfs:/mnt/gold/customer_vehicle_count/part-00000-14976840-006b-4dc0-a467-0b95e2e64d9e-c000.snappy.parquet",
         "part-00000-14976840-006b-4dc0-a467-0b95e2e64d9e-c000.snappy.parquet",
         913,
         1750684858000
        ],
        [
         "dbfs:/mnt/gold/customer_vehicle_count/part-00000-185898f4-b079-47b1-87c3-9e017f7e1425-c000.snappy.parquet",
         "part-00000-185898f4-b079-47b1-87c3-9e017f7e1425-c000.snappy.parquet",
         1198,
         1750675366000
        ],
        [
         "dbfs:/mnt/gold/customer_vehicle_count/part-00000-31ba8584-22ed-44bc-8a75-1d90d464081e-c000.snappy.parquet",
         "part-00000-31ba8584-22ed-44bc-8a75-1d90d464081e-c000.snappy.parquet",
         922,
         1750668399000
        ],
        [
         "dbfs:/mnt/gold/customer_vehicle_count/part-00000-3f559176-910a-47c3-81c1-ddd3b426d5c1-c000.snappy.parquet",
         "part-00000-3f559176-910a-47c3-81c1-ddd3b426d5c1-c000.snappy.parquet",
         1198,
         1750685597000
        ],
        [
         "dbfs:/mnt/gold/customer_vehicle_count/part-00000-9edfac4f-10f5-44fd-803a-f4737a735aef-c000.snappy.parquet",
         "part-00000-9edfac4f-10f5-44fd-803a-f4737a735aef-c000.snappy.parquet",
         913,
         1750684419000
        ],
        [
         "dbfs:/mnt/gold/customer_vehicle_count/part-00000-a3418094-9d67-4f5b-a9c1-20a924abe678-c000.snappy.parquet",
         "part-00000-a3418094-9d67-4f5b-a9c1-20a924abe678-c000.snappy.parquet",
         1198,
         1750675418000
        ],
        [
         "dbfs:/mnt/gold/customer_vehicle_count/part-00000-a5499ae2-3048-4b4a-8b36-ab283ddd3845-c000.snappy.parquet",
         "part-00000-a5499ae2-3048-4b4a-8b36-ab283ddd3845-c000.snappy.parquet",
         913,
         1750684404000
        ],
        [
         "dbfs:/mnt/gold/customer_vehicle_count/part-00000-e53ce15a-eaaa-45de-9c3b-e15c3075dc22-c000.snappy.parquet",
         "part-00000-e53ce15a-eaaa-45de-9c3b-e15c3075dc22-c000.snappy.parquet",
         1442,
         1750686318000
        ],
        [
         "dbfs:/mnt/gold/customer_vehicle_count/part-00000-f1d559a4-8bf0-435d-895e-579773893964-c000.snappy.parquet",
         "part-00000-f1d559a4-8bf0-435d-895e-579773893964-c000.snappy.parquet",
         913,
         1750676453000
        ],
        [
         "dbfs:/mnt/gold/customer_vehicle_count/part-00000-f2ecc7a8-756c-4ee3-a030-1597b01f69a1-c000.snappy.parquet",
         "part-00000-f2ecc7a8-756c-4ee3-a030-1597b01f69a1-c000.snappy.parquet",
         1443,
         1750756730000
        ],
        [
         "dbfs:/mnt/gold/customer_vehicle_count/part-00000-f8d3f9e5-a046-4a71-865d-25a605808ba8-c000.snappy.parquet",
         "part-00000-f8d3f9e5-a046-4a71-865d-25a605808ba8-c000.snappy.parquet",
         1198,
         1750684236000
        ]
       ],
       "datasetInfos": [],
       "dbfsResultPath": null,
       "isJsonSchema": true,
       "metadata": {},
       "overflow": false,
       "plotOptions": {
        "customPlotOptions": {},
        "displayType": "table",
        "pivotAggregation": null,
        "pivotColumns": null,
        "xColumns": null,
        "yColumns": null
       },
       "removedWidgets": [],
       "schema": [
        {
         "metadata": "{}",
         "name": "path",
         "type": "\"string\""
        },
        {
         "metadata": "{}",
         "name": "name",
         "type": "\"string\""
        },
        {
         "metadata": "{}",
         "name": "size",
         "type": "\"long\""
        },
        {
         "metadata": "{}",
         "name": "modificationTime",
         "type": "\"long\""
        }
       ],
       "type": "table"
      }
     },
     "output_type": "display_data"
    }
   ],
   "source": [
    "display(dbutils.fs.ls(\"/mnt/gold/customer_vehicle_count\"))"
   ]
  },
  {
   "cell_type": "markdown",
   "metadata": {
    "application/vnd.databricks.v1+cell": {
     "cellMetadata": {
      "byteLimit": 2048000,
      "rowLimit": 10000
     },
     "inputWidgets": {},
     "nuid": "6a2a80e0-4e68-48cf-bf75-f1e6ac86b595",
     "showTitle": false,
     "tableResultSettingsMap": {},
     "title": ""
    }
   },
   "source": [
    " Step 2: Write to Gold Delta Table"
   ]
  },
  {
   "cell_type": "code",
   "execution_count": 0,
   "metadata": {
    "application/vnd.databricks.v1+cell": {
     "cellMetadata": {
      "byteLimit": 2048000,
      "rowLimit": 10000
     },
     "inputWidgets": {},
     "nuid": "04857611-f796-47a8-80b8-7fad339c940d",
     "showTitle": false,
     "tableResultSettingsMap": {},
     "title": ""
    }
   },
   "outputs": [],
   "source": [
    "vehicle_count_df.write.format('delta')\\\n",
    "                      .mode(\"overwrite\")\\\n",
    "                      .save(\"/mnt/gold/customer_vehicle_count\")\n"
   ]
  },
  {
   "cell_type": "markdown",
   "metadata": {
    "application/vnd.databricks.v1+cell": {
     "cellMetadata": {
      "byteLimit": 2048000,
      "rowLimit": 10000
     },
     "inputWidgets": {},
     "nuid": "05a0911c-ae22-467f-bf3f-b1cf0edd9d64",
     "showTitle": false,
     "tableResultSettingsMap": {},
     "title": ""
    }
   },
   "source": [
    "Step 3: Verify the Write"
   ]
  },
  {
   "cell_type": "code",
   "execution_count": 0,
   "metadata": {
    "application/vnd.databricks.v1+cell": {
     "cellMetadata": {
      "byteLimit": 2048000,
      "rowLimit": 10000
     },
     "inputWidgets": {},
     "nuid": "7dd53590-33ab-4ff8-b4ff-bd2238fd179d",
     "showTitle": false,
     "tableResultSettingsMap": {},
     "title": ""
    }
   },
   "outputs": [
    {
     "output_type": "display_data",
     "data": {
      "text/html": [
       "<style scoped>\n",
       "  .table-result-container {\n",
       "    max-height: 300px;\n",
       "    overflow: auto;\n",
       "  }\n",
       "  table, th, td {\n",
       "    border: 1px solid black;\n",
       "    border-collapse: collapse;\n",
       "  }\n",
       "  th, td {\n",
       "    padding: 5px;\n",
       "  }\n",
       "  th {\n",
       "    text-align: left;\n",
       "  }\n",
       "</style><div class='table-result-container'><table class='table-result'><thead style='background-color: white'><tr><th>path</th><th>name</th><th>size</th><th>modificationTime</th></tr></thead><tbody><tr><td>dbfs:/mnt/gold/customer_vehicle_count/_delta_log/</td><td>_delta_log/</td><td>0</td><td>0</td></tr><tr><td>dbfs:/mnt/gold/customer_vehicle_count/part-00000-01758f6e-ee21-4952-9406-40fc84f9d3d8-c000.snappy.parquet</td><td>part-00000-01758f6e-ee21-4952-9406-40fc84f9d3d8-c000.snappy.parquet</td><td>1198</td><td>1750684198000</td></tr><tr><td>dbfs:/mnt/gold/customer_vehicle_count/part-00000-07b80a7c-21ee-4e79-9b50-e1ffc0347ca8-c000.snappy.parquet</td><td>part-00000-07b80a7c-21ee-4e79-9b50-e1ffc0347ca8-c000.snappy.parquet</td><td>1198</td><td>1750684173000</td></tr><tr><td>dbfs:/mnt/gold/customer_vehicle_count/part-00000-14976840-006b-4dc0-a467-0b95e2e64d9e-c000.snappy.parquet</td><td>part-00000-14976840-006b-4dc0-a467-0b95e2e64d9e-c000.snappy.parquet</td><td>913</td><td>1750684858000</td></tr><tr><td>dbfs:/mnt/gold/customer_vehicle_count/part-00000-185898f4-b079-47b1-87c3-9e017f7e1425-c000.snappy.parquet</td><td>part-00000-185898f4-b079-47b1-87c3-9e017f7e1425-c000.snappy.parquet</td><td>1198</td><td>1750675366000</td></tr><tr><td>dbfs:/mnt/gold/customer_vehicle_count/part-00000-31ba8584-22ed-44bc-8a75-1d90d464081e-c000.snappy.parquet</td><td>part-00000-31ba8584-22ed-44bc-8a75-1d90d464081e-c000.snappy.parquet</td><td>922</td><td>1750668399000</td></tr><tr><td>dbfs:/mnt/gold/customer_vehicle_count/part-00000-3f559176-910a-47c3-81c1-ddd3b426d5c1-c000.snappy.parquet</td><td>part-00000-3f559176-910a-47c3-81c1-ddd3b426d5c1-c000.snappy.parquet</td><td>1198</td><td>1750685597000</td></tr><tr><td>dbfs:/mnt/gold/customer_vehicle_count/part-00000-9ada0545-eeb4-4d76-b7ef-f2d91216335f-c000.snappy.parquet</td><td>part-00000-9ada0545-eeb4-4d76-b7ef-f2d91216335f-c000.snappy.parquet</td><td>1443</td><td>1750844239000</td></tr><tr><td>dbfs:/mnt/gold/customer_vehicle_count/part-00000-9edfac4f-10f5-44fd-803a-f4737a735aef-c000.snappy.parquet</td><td>part-00000-9edfac4f-10f5-44fd-803a-f4737a735aef-c000.snappy.parquet</td><td>913</td><td>1750684419000</td></tr><tr><td>dbfs:/mnt/gold/customer_vehicle_count/part-00000-a3418094-9d67-4f5b-a9c1-20a924abe678-c000.snappy.parquet</td><td>part-00000-a3418094-9d67-4f5b-a9c1-20a924abe678-c000.snappy.parquet</td><td>1198</td><td>1750675418000</td></tr><tr><td>dbfs:/mnt/gold/customer_vehicle_count/part-00000-a5499ae2-3048-4b4a-8b36-ab283ddd3845-c000.snappy.parquet</td><td>part-00000-a5499ae2-3048-4b4a-8b36-ab283ddd3845-c000.snappy.parquet</td><td>913</td><td>1750684404000</td></tr><tr><td>dbfs:/mnt/gold/customer_vehicle_count/part-00000-e53ce15a-eaaa-45de-9c3b-e15c3075dc22-c000.snappy.parquet</td><td>part-00000-e53ce15a-eaaa-45de-9c3b-e15c3075dc22-c000.snappy.parquet</td><td>1442</td><td>1750686318000</td></tr><tr><td>dbfs:/mnt/gold/customer_vehicle_count/part-00000-f1d559a4-8bf0-435d-895e-579773893964-c000.snappy.parquet</td><td>part-00000-f1d559a4-8bf0-435d-895e-579773893964-c000.snappy.parquet</td><td>913</td><td>1750676453000</td></tr><tr><td>dbfs:/mnt/gold/customer_vehicle_count/part-00000-f2ecc7a8-756c-4ee3-a030-1597b01f69a1-c000.snappy.parquet</td><td>part-00000-f2ecc7a8-756c-4ee3-a030-1597b01f69a1-c000.snappy.parquet</td><td>1443</td><td>1750756730000</td></tr><tr><td>dbfs:/mnt/gold/customer_vehicle_count/part-00000-f8d3f9e5-a046-4a71-865d-25a605808ba8-c000.snappy.parquet</td><td>part-00000-f8d3f9e5-a046-4a71-865d-25a605808ba8-c000.snappy.parquet</td><td>1198</td><td>1750684236000</td></tr></tbody></table></div>"
      ]
     },
     "metadata": {
      "application/vnd.databricks.v1+output": {
       "addedWidgets": {},
       "aggData": [],
       "aggError": "",
       "aggOverflow": false,
       "aggSchema": [],
       "aggSeriesLimitReached": false,
       "aggType": "",
       "arguments": {},
       "columnCustomDisplayInfos": {},
       "data": [
        [
         "dbfs:/mnt/gold/customer_vehicle_count/_delta_log/",
         "_delta_log/",
         0,
         0
        ],
        [
         "dbfs:/mnt/gold/customer_vehicle_count/part-00000-01758f6e-ee21-4952-9406-40fc84f9d3d8-c000.snappy.parquet",
         "part-00000-01758f6e-ee21-4952-9406-40fc84f9d3d8-c000.snappy.parquet",
         1198,
         1750684198000
        ],
        [
         "dbfs:/mnt/gold/customer_vehicle_count/part-00000-07b80a7c-21ee-4e79-9b50-e1ffc0347ca8-c000.snappy.parquet",
         "part-00000-07b80a7c-21ee-4e79-9b50-e1ffc0347ca8-c000.snappy.parquet",
         1198,
         1750684173000
        ],
        [
         "dbfs:/mnt/gold/customer_vehicle_count/part-00000-14976840-006b-4dc0-a467-0b95e2e64d9e-c000.snappy.parquet",
         "part-00000-14976840-006b-4dc0-a467-0b95e2e64d9e-c000.snappy.parquet",
         913,
         1750684858000
        ],
        [
         "dbfs:/mnt/gold/customer_vehicle_count/part-00000-185898f4-b079-47b1-87c3-9e017f7e1425-c000.snappy.parquet",
         "part-00000-185898f4-b079-47b1-87c3-9e017f7e1425-c000.snappy.parquet",
         1198,
         1750675366000
        ],
        [
         "dbfs:/mnt/gold/customer_vehicle_count/part-00000-31ba8584-22ed-44bc-8a75-1d90d464081e-c000.snappy.parquet",
         "part-00000-31ba8584-22ed-44bc-8a75-1d90d464081e-c000.snappy.parquet",
         922,
         1750668399000
        ],
        [
         "dbfs:/mnt/gold/customer_vehicle_count/part-00000-3f559176-910a-47c3-81c1-ddd3b426d5c1-c000.snappy.parquet",
         "part-00000-3f559176-910a-47c3-81c1-ddd3b426d5c1-c000.snappy.parquet",
         1198,
         1750685597000
        ],
        [
         "dbfs:/mnt/gold/customer_vehicle_count/part-00000-9ada0545-eeb4-4d76-b7ef-f2d91216335f-c000.snappy.parquet",
         "part-00000-9ada0545-eeb4-4d76-b7ef-f2d91216335f-c000.snappy.parquet",
         1443,
         1750844239000
        ],
        [
         "dbfs:/mnt/gold/customer_vehicle_count/part-00000-9edfac4f-10f5-44fd-803a-f4737a735aef-c000.snappy.parquet",
         "part-00000-9edfac4f-10f5-44fd-803a-f4737a735aef-c000.snappy.parquet",
         913,
         1750684419000
        ],
        [
         "dbfs:/mnt/gold/customer_vehicle_count/part-00000-a3418094-9d67-4f5b-a9c1-20a924abe678-c000.snappy.parquet",
         "part-00000-a3418094-9d67-4f5b-a9c1-20a924abe678-c000.snappy.parquet",
         1198,
         1750675418000
        ],
        [
         "dbfs:/mnt/gold/customer_vehicle_count/part-00000-a5499ae2-3048-4b4a-8b36-ab283ddd3845-c000.snappy.parquet",
         "part-00000-a5499ae2-3048-4b4a-8b36-ab283ddd3845-c000.snappy.parquet",
         913,
         1750684404000
        ],
        [
         "dbfs:/mnt/gold/customer_vehicle_count/part-00000-e53ce15a-eaaa-45de-9c3b-e15c3075dc22-c000.snappy.parquet",
         "part-00000-e53ce15a-eaaa-45de-9c3b-e15c3075dc22-c000.snappy.parquet",
         1442,
         1750686318000
        ],
        [
         "dbfs:/mnt/gold/customer_vehicle_count/part-00000-f1d559a4-8bf0-435d-895e-579773893964-c000.snappy.parquet",
         "part-00000-f1d559a4-8bf0-435d-895e-579773893964-c000.snappy.parquet",
         913,
         1750676453000
        ],
        [
         "dbfs:/mnt/gold/customer_vehicle_count/part-00000-f2ecc7a8-756c-4ee3-a030-1597b01f69a1-c000.snappy.parquet",
         "part-00000-f2ecc7a8-756c-4ee3-a030-1597b01f69a1-c000.snappy.parquet",
         1443,
         1750756730000
        ],
        [
         "dbfs:/mnt/gold/customer_vehicle_count/part-00000-f8d3f9e5-a046-4a71-865d-25a605808ba8-c000.snappy.parquet",
         "part-00000-f8d3f9e5-a046-4a71-865d-25a605808ba8-c000.snappy.parquet",
         1198,
         1750684236000
        ]
       ],
       "datasetInfos": [],
       "dbfsResultPath": null,
       "isJsonSchema": true,
       "metadata": {},
       "overflow": false,
       "plotOptions": {
        "customPlotOptions": {},
        "displayType": "table",
        "pivotAggregation": null,
        "pivotColumns": null,
        "xColumns": null,
        "yColumns": null
       },
       "removedWidgets": [],
       "schema": [
        {
         "metadata": "{}",
         "name": "path",
         "type": "\"string\""
        },
        {
         "metadata": "{}",
         "name": "name",
         "type": "\"string\""
        },
        {
         "metadata": "{}",
         "name": "size",
         "type": "\"long\""
        },
        {
         "metadata": "{}",
         "name": "modificationTime",
         "type": "\"long\""
        }
       ],
       "type": "table"
      }
     },
     "output_type": "display_data"
    }
   ],
   "source": [
    "display(dbutils.fs.ls(\"/mnt/gold/customer_vehicle_count\"))"
   ]
  },
  {
   "cell_type": "code",
   "execution_count": 0,
   "metadata": {
    "application/vnd.databricks.v1+cell": {
     "cellMetadata": {
      "byteLimit": 2048000,
      "rowLimit": 10000
     },
     "inputWidgets": {},
     "nuid": "822623ac-5cfd-4906-b46d-e94dd24e788d",
     "showTitle": false,
     "tableResultSettingsMap": {},
     "title": ""
    }
   },
   "outputs": [
    {
     "output_type": "stream",
     "name": "stdout",
     "output_type": "stream",
     "text": [
      "+-----------+-------------+-----------+------+\n|customer_id|vehicle_count|       name|  city|\n+-----------+-------------+-----------+------+\n|        103|            1|Bob Johnson|Nagpur|\n|        101|            1|   John Doe|Mumbai|\n|        102|            1| Jane Smith|  Pune|\n+-----------+-------------+-----------+------+\n\n"
     ]
    }
   ],
   "source": [
    "spark.read.format('delta').load(\"/mnt/gold/customer_vehicle_count\").show()"
   ]
  },
  {
   "cell_type": "markdown",
   "metadata": {
    "application/vnd.databricks.v1+cell": {
     "cellMetadata": {
      "byteLimit": 2048000,
      "rowLimit": 10000
     },
     "inputWidgets": {},
     "nuid": "3fb215c2-f233-4899-9e6d-eb6a72dea05d",
     "showTitle": false,
     "tableResultSettingsMap": {},
     "title": ""
    }
   },
   "source": [
    "**GOLD TABLE 2: Vehicle Count Per city**"
   ]
  },
  {
   "cell_type": "markdown",
   "metadata": {
    "application/vnd.databricks.v1+cell": {
     "cellMetadata": {
      "byteLimit": 2048000,
      "rowLimit": 10000
     },
     "inputWidgets": {},
     "nuid": "01ef3abd-db9c-413c-98c7-6b77d9561c8c",
     "showTitle": false,
     "tableResultSettingsMap": {},
     "title": ""
    }
   },
   "source": [
    "Step 1: Group and Aggregate"
   ]
  },
  {
   "cell_type": "code",
   "execution_count": 0,
   "metadata": {
    "application/vnd.databricks.v1+cell": {
     "cellMetadata": {
      "byteLimit": 2048000,
      "rowLimit": 10000
     },
     "inputWidgets": {},
     "nuid": "c05abd66-1f3d-4b05-9e66-58040ef505a2",
     "showTitle": false,
     "tableResultSettingsMap": {},
     "title": ""
    }
   },
   "outputs": [],
   "source": [
    "vehicle_count_per_city=customer_360_df.groupby('city')\\\n",
    "                    .agg(count('vehicle_id').alias('vehicle_count'))\\\n",
    "                        .orderBy(\"vehicle_count\", ascending=False)\n"
   ]
  },
  {
   "cell_type": "markdown",
   "metadata": {
    "application/vnd.databricks.v1+cell": {
     "cellMetadata": {
      "byteLimit": 2048000,
      "rowLimit": 10000
     },
     "inputWidgets": {},
     "nuid": "84b4f64b-6612-42ab-a992-9d4fe6736684",
     "showTitle": false,
     "tableResultSettingsMap": {},
     "title": ""
    }
   },
   "source": [
    "Step 2: Show Results"
   ]
  },
  {
   "cell_type": "code",
   "execution_count": 0,
   "metadata": {
    "application/vnd.databricks.v1+cell": {
     "cellMetadata": {
      "byteLimit": 2048000,
      "rowLimit": 10000
     },
     "inputWidgets": {},
     "nuid": "65a06aaf-28f3-47cd-92f0-756eb981e531",
     "showTitle": false,
     "tableResultSettingsMap": {},
     "title": ""
    }
   },
   "outputs": [
    {
     "output_type": "stream",
     "name": "stdout",
     "output_type": "stream",
     "text": [
      "+------+-------------+\n|  city|vehicle_count|\n+------+-------------+\n|Nagpur|            1|\n|Mumbai|            1|\n|  Pune|            1|\n+------+-------------+\n\n"
     ]
    }
   ],
   "source": [
    "vehicle_count_per_city.show()"
   ]
  },
  {
   "cell_type": "code",
   "execution_count": 0,
   "metadata": {
    "application/vnd.databricks.v1+cell": {
     "cellMetadata": {
      "byteLimit": 2048000,
      "rowLimit": 10000
     },
     "inputWidgets": {},
     "nuid": "dbd1dc5c-9881-41d0-949c-fa43c3a8e464",
     "showTitle": false,
     "tableResultSettingsMap": {},
     "title": ""
    }
   },
   "outputs": [],
   "source": [
    "vehicle_count_per_city.write.format('delta')\\\n",
    "                      .mode(\"overwrite\")\\\n",
    "                       .save(\"/mnt/gold/vehicle_count_per_city\")\n"
   ]
  },
  {
   "cell_type": "code",
   "execution_count": 0,
   "metadata": {
    "application/vnd.databricks.v1+cell": {
     "cellMetadata": {
      "byteLimit": 2048000,
      "rowLimit": 10000
     },
     "inputWidgets": {},
     "nuid": "dce7d25e-a014-4759-b7a6-81301d47235f",
     "showTitle": false,
     "tableResultSettingsMap": {},
     "title": ""
    }
   },
   "outputs": [
    {
     "output_type": "stream",
     "name": "stdout",
     "output_type": "stream",
     "text": [
      "+------+-------------+\n|  city|vehicle_count|\n+------+-------------+\n|Nagpur|            1|\n|Mumbai|            1|\n|  Pune|            1|\n+------+-------------+\n\n"
     ]
    }
   ],
   "source": [
    "spark.read.format('delta').load(\"/mnt/gold/vehicle_count_per_city\").show()"
   ]
  },
  {
   "cell_type": "code",
   "execution_count": 0,
   "metadata": {
    "application/vnd.databricks.v1+cell": {
     "cellMetadata": {
      "byteLimit": 2048000,
      "rowLimit": 10000
     },
     "inputWidgets": {},
     "nuid": "359c71e0-9691-4bd9-80d7-d64d33ec7e36",
     "showTitle": false,
     "tableResultSettingsMap": {},
     "title": ""
    }
   },
   "outputs": [
    {
     "output_type": "display_data",
     "data": {
      "text/html": [
       "<style scoped>\n",
       "  .table-result-container {\n",
       "    max-height: 300px;\n",
       "    overflow: auto;\n",
       "  }\n",
       "  table, th, td {\n",
       "    border: 1px solid black;\n",
       "    border-collapse: collapse;\n",
       "  }\n",
       "  th, td {\n",
       "    padding: 5px;\n",
       "  }\n",
       "  th {\n",
       "    text-align: left;\n",
       "  }\n",
       "</style><div class='table-result-container'><table class='table-result'><thead style='background-color: white'><tr><th>path</th><th>name</th><th>size</th><th>modificationTime</th></tr></thead><tbody><tr><td>dbfs:/mnt/gold/customer_vehicle_count/_delta_log/</td><td>_delta_log/</td><td>0</td><td>0</td></tr><tr><td>dbfs:/mnt/gold/customer_vehicle_count/part-00000-01758f6e-ee21-4952-9406-40fc84f9d3d8-c000.snappy.parquet</td><td>part-00000-01758f6e-ee21-4952-9406-40fc84f9d3d8-c000.snappy.parquet</td><td>1198</td><td>1750684198000</td></tr><tr><td>dbfs:/mnt/gold/customer_vehicle_count/part-00000-07b80a7c-21ee-4e79-9b50-e1ffc0347ca8-c000.snappy.parquet</td><td>part-00000-07b80a7c-21ee-4e79-9b50-e1ffc0347ca8-c000.snappy.parquet</td><td>1198</td><td>1750684173000</td></tr><tr><td>dbfs:/mnt/gold/customer_vehicle_count/part-00000-14976840-006b-4dc0-a467-0b95e2e64d9e-c000.snappy.parquet</td><td>part-00000-14976840-006b-4dc0-a467-0b95e2e64d9e-c000.snappy.parquet</td><td>913</td><td>1750684858000</td></tr><tr><td>dbfs:/mnt/gold/customer_vehicle_count/part-00000-185898f4-b079-47b1-87c3-9e017f7e1425-c000.snappy.parquet</td><td>part-00000-185898f4-b079-47b1-87c3-9e017f7e1425-c000.snappy.parquet</td><td>1198</td><td>1750675366000</td></tr><tr><td>dbfs:/mnt/gold/customer_vehicle_count/part-00000-31ba8584-22ed-44bc-8a75-1d90d464081e-c000.snappy.parquet</td><td>part-00000-31ba8584-22ed-44bc-8a75-1d90d464081e-c000.snappy.parquet</td><td>922</td><td>1750668399000</td></tr><tr><td>dbfs:/mnt/gold/customer_vehicle_count/part-00000-3f559176-910a-47c3-81c1-ddd3b426d5c1-c000.snappy.parquet</td><td>part-00000-3f559176-910a-47c3-81c1-ddd3b426d5c1-c000.snappy.parquet</td><td>1198</td><td>1750685597000</td></tr><tr><td>dbfs:/mnt/gold/customer_vehicle_count/part-00000-9ada0545-eeb4-4d76-b7ef-f2d91216335f-c000.snappy.parquet</td><td>part-00000-9ada0545-eeb4-4d76-b7ef-f2d91216335f-c000.snappy.parquet</td><td>1443</td><td>1750844239000</td></tr><tr><td>dbfs:/mnt/gold/customer_vehicle_count/part-00000-9edfac4f-10f5-44fd-803a-f4737a735aef-c000.snappy.parquet</td><td>part-00000-9edfac4f-10f5-44fd-803a-f4737a735aef-c000.snappy.parquet</td><td>913</td><td>1750684419000</td></tr><tr><td>dbfs:/mnt/gold/customer_vehicle_count/part-00000-a3418094-9d67-4f5b-a9c1-20a924abe678-c000.snappy.parquet</td><td>part-00000-a3418094-9d67-4f5b-a9c1-20a924abe678-c000.snappy.parquet</td><td>1198</td><td>1750675418000</td></tr><tr><td>dbfs:/mnt/gold/customer_vehicle_count/part-00000-a5499ae2-3048-4b4a-8b36-ab283ddd3845-c000.snappy.parquet</td><td>part-00000-a5499ae2-3048-4b4a-8b36-ab283ddd3845-c000.snappy.parquet</td><td>913</td><td>1750684404000</td></tr><tr><td>dbfs:/mnt/gold/customer_vehicle_count/part-00000-e53ce15a-eaaa-45de-9c3b-e15c3075dc22-c000.snappy.parquet</td><td>part-00000-e53ce15a-eaaa-45de-9c3b-e15c3075dc22-c000.snappy.parquet</td><td>1442</td><td>1750686318000</td></tr><tr><td>dbfs:/mnt/gold/customer_vehicle_count/part-00000-f1d559a4-8bf0-435d-895e-579773893964-c000.snappy.parquet</td><td>part-00000-f1d559a4-8bf0-435d-895e-579773893964-c000.snappy.parquet</td><td>913</td><td>1750676453000</td></tr><tr><td>dbfs:/mnt/gold/customer_vehicle_count/part-00000-f2ecc7a8-756c-4ee3-a030-1597b01f69a1-c000.snappy.parquet</td><td>part-00000-f2ecc7a8-756c-4ee3-a030-1597b01f69a1-c000.snappy.parquet</td><td>1443</td><td>1750756730000</td></tr><tr><td>dbfs:/mnt/gold/customer_vehicle_count/part-00000-f8d3f9e5-a046-4a71-865d-25a605808ba8-c000.snappy.parquet</td><td>part-00000-f8d3f9e5-a046-4a71-865d-25a605808ba8-c000.snappy.parquet</td><td>1198</td><td>1750684236000</td></tr></tbody></table></div>"
      ]
     },
     "metadata": {
      "application/vnd.databricks.v1+output": {
       "addedWidgets": {},
       "aggData": [],
       "aggError": "",
       "aggOverflow": false,
       "aggSchema": [],
       "aggSeriesLimitReached": false,
       "aggType": "",
       "arguments": {},
       "columnCustomDisplayInfos": {},
       "data": [
        [
         "dbfs:/mnt/gold/customer_vehicle_count/_delta_log/",
         "_delta_log/",
         0,
         0
        ],
        [
         "dbfs:/mnt/gold/customer_vehicle_count/part-00000-01758f6e-ee21-4952-9406-40fc84f9d3d8-c000.snappy.parquet",
         "part-00000-01758f6e-ee21-4952-9406-40fc84f9d3d8-c000.snappy.parquet",
         1198,
         1750684198000
        ],
        [
         "dbfs:/mnt/gold/customer_vehicle_count/part-00000-07b80a7c-21ee-4e79-9b50-e1ffc0347ca8-c000.snappy.parquet",
         "part-00000-07b80a7c-21ee-4e79-9b50-e1ffc0347ca8-c000.snappy.parquet",
         1198,
         1750684173000
        ],
        [
         "dbfs:/mnt/gold/customer_vehicle_count/part-00000-14976840-006b-4dc0-a467-0b95e2e64d9e-c000.snappy.parquet",
         "part-00000-14976840-006b-4dc0-a467-0b95e2e64d9e-c000.snappy.parquet",
         913,
         1750684858000
        ],
        [
         "dbfs:/mnt/gold/customer_vehicle_count/part-00000-185898f4-b079-47b1-87c3-9e017f7e1425-c000.snappy.parquet",
         "part-00000-185898f4-b079-47b1-87c3-9e017f7e1425-c000.snappy.parquet",
         1198,
         1750675366000
        ],
        [
         "dbfs:/mnt/gold/customer_vehicle_count/part-00000-31ba8584-22ed-44bc-8a75-1d90d464081e-c000.snappy.parquet",
         "part-00000-31ba8584-22ed-44bc-8a75-1d90d464081e-c000.snappy.parquet",
         922,
         1750668399000
        ],
        [
         "dbfs:/mnt/gold/customer_vehicle_count/part-00000-3f559176-910a-47c3-81c1-ddd3b426d5c1-c000.snappy.parquet",
         "part-00000-3f559176-910a-47c3-81c1-ddd3b426d5c1-c000.snappy.parquet",
         1198,
         1750685597000
        ],
        [
         "dbfs:/mnt/gold/customer_vehicle_count/part-00000-9ada0545-eeb4-4d76-b7ef-f2d91216335f-c000.snappy.parquet",
         "part-00000-9ada0545-eeb4-4d76-b7ef-f2d91216335f-c000.snappy.parquet",
         1443,
         1750844239000
        ],
        [
         "dbfs:/mnt/gold/customer_vehicle_count/part-00000-9edfac4f-10f5-44fd-803a-f4737a735aef-c000.snappy.parquet",
         "part-00000-9edfac4f-10f5-44fd-803a-f4737a735aef-c000.snappy.parquet",
         913,
         1750684419000
        ],
        [
         "dbfs:/mnt/gold/customer_vehicle_count/part-00000-a3418094-9d67-4f5b-a9c1-20a924abe678-c000.snappy.parquet",
         "part-00000-a3418094-9d67-4f5b-a9c1-20a924abe678-c000.snappy.parquet",
         1198,
         1750675418000
        ],
        [
         "dbfs:/mnt/gold/customer_vehicle_count/part-00000-a5499ae2-3048-4b4a-8b36-ab283ddd3845-c000.snappy.parquet",
         "part-00000-a5499ae2-3048-4b4a-8b36-ab283ddd3845-c000.snappy.parquet",
         913,
         1750684404000
        ],
        [
         "dbfs:/mnt/gold/customer_vehicle_count/part-00000-e53ce15a-eaaa-45de-9c3b-e15c3075dc22-c000.snappy.parquet",
         "part-00000-e53ce15a-eaaa-45de-9c3b-e15c3075dc22-c000.snappy.parquet",
         1442,
         1750686318000
        ],
        [
         "dbfs:/mnt/gold/customer_vehicle_count/part-00000-f1d559a4-8bf0-435d-895e-579773893964-c000.snappy.parquet",
         "part-00000-f1d559a4-8bf0-435d-895e-579773893964-c000.snappy.parquet",
         913,
         1750676453000
        ],
        [
         "dbfs:/mnt/gold/customer_vehicle_count/part-00000-f2ecc7a8-756c-4ee3-a030-1597b01f69a1-c000.snappy.parquet",
         "part-00000-f2ecc7a8-756c-4ee3-a030-1597b01f69a1-c000.snappy.parquet",
         1443,
         1750756730000
        ],
        [
         "dbfs:/mnt/gold/customer_vehicle_count/part-00000-f8d3f9e5-a046-4a71-865d-25a605808ba8-c000.snappy.parquet",
         "part-00000-f8d3f9e5-a046-4a71-865d-25a605808ba8-c000.snappy.parquet",
         1198,
         1750684236000
        ]
       ],
       "datasetInfos": [],
       "dbfsResultPath": null,
       "isJsonSchema": true,
       "metadata": {},
       "overflow": false,
       "plotOptions": {
        "customPlotOptions": {},
        "displayType": "table",
        "pivotAggregation": null,
        "pivotColumns": null,
        "xColumns": null,
        "yColumns": null
       },
       "removedWidgets": [],
       "schema": [
        {
         "metadata": "{}",
         "name": "path",
         "type": "\"string\""
        },
        {
         "metadata": "{}",
         "name": "name",
         "type": "\"string\""
        },
        {
         "metadata": "{}",
         "name": "size",
         "type": "\"long\""
        },
        {
         "metadata": "{}",
         "name": "modificationTime",
         "type": "\"long\""
        }
       ],
       "type": "table"
      }
     },
     "output_type": "display_data"
    }
   ],
   "source": [
    "display(dbutils.fs.ls(\"/mnt/gold/customer_vehicle_count\"))"
   ]
  },
  {
   "cell_type": "code",
   "execution_count": 0,
   "metadata": {
    "application/vnd.databricks.v1+cell": {
     "cellMetadata": {
      "byteLimit": 2048000,
      "rowLimit": 10000
     },
     "inputWidgets": {},
     "nuid": "4ea14c45-e809-42da-a54b-429b906d6117",
     "showTitle": false,
     "tableResultSettingsMap": {},
     "title": ""
    }
   },
   "outputs": [
    {
     "output_type": "stream",
     "name": "stdout",
     "output_type": "stream",
     "text": [
      "+-----------+-----------+----------------+----------+------+----------+------+-----+----+\n|customer_id|       name|           email|     phone|  city|vehicle_id|  make|model|year|\n+-----------+-----------+----------------+----------+------+----------+------+-----+----+\n|        103|Bob Johnson| bob@example.com|3456789012|Nagpur|         3|  Ford|Focus|2019|\n|        101|   John Doe|john@example.com|1234567890|Mumbai|         1|Toyota|Camry|2020|\n|        102| Jane Smith|jane@example.com|2345678901|  Pune|         2| Honda|Civic|2021|\n+-----------+-----------+----------------+----------+------+----------+------+-----+----+\n\n"
     ]
    }
   ],
   "source": [
    "customer_360_df.filter(\"customer_id is not null\").show()\n"
   ]
  },
  {
   "cell_type": "markdown",
   "metadata": {
    "application/vnd.databricks.v1+cell": {
     "cellMetadata": {
      "byteLimit": 2048000,
      "rowLimit": 10000
     },
     "inputWidgets": {},
     "nuid": "be8f71a1-d6f0-44da-8c86-95ddf2e225f9",
     "showTitle": false,
     "tableResultSettingsMap": {},
     "title": ""
    }
   },
   "source": [
    "### ##  **Goal:\n",
    "### ## Get only the latest vehicle (by year) for each customer from the customer_360_df.**"
   ]
  },
  {
   "cell_type": "code",
   "execution_count": 0,
   "metadata": {
    "application/vnd.databricks.v1+cell": {
     "cellMetadata": {
      "byteLimit": 2048000,
      "rowLimit": 10000
     },
     "inputWidgets": {},
     "nuid": "33137c71-147e-4705-b597-1451569a77f7",
     "showTitle": false,
     "tableResultSettingsMap": {},
     "title": ""
    }
   },
   "outputs": [],
   "source": [
    "from pyspark.sql.window import Window\n",
    "from pyspark.sql.functions import row_number, col\n"
   ]
  },
  {
   "cell_type": "code",
   "execution_count": 0,
   "metadata": {
    "application/vnd.databricks.v1+cell": {
     "cellMetadata": {
      "byteLimit": 2048000,
      "rowLimit": 10000
     },
     "inputWidgets": {},
     "nuid": "da1b373a-19ad-4e1f-a55e-39639a2c4906",
     "showTitle": false,
     "tableResultSettingsMap": {},
     "title": ""
    }
   },
   "outputs": [],
   "source": [
    "window_spec=Window.partitionBy(\"customer_id\").orderBy(col(\"year\").desc())"
   ]
  },
  {
   "cell_type": "code",
   "execution_count": 0,
   "metadata": {
    "application/vnd.databricks.v1+cell": {
     "cellMetadata": {
      "byteLimit": 2048000,
      "rowLimit": 10000
     },
     "inputWidgets": {},
     "nuid": "095ca208-f846-4d58-8de6-04b61d529823",
     "showTitle": false,
     "tableResultSettingsMap": {},
     "title": ""
    }
   },
   "outputs": [],
   "source": [
    "latest_vehicle=customer_360_df.withColumn(\"row_num\",row_number().over(window_spec))"
   ]
  },
  {
   "cell_type": "markdown",
   "metadata": {
    "application/vnd.databricks.v1+cell": {
     "cellMetadata": {
      "byteLimit": 2048000,
      "rowLimit": 10000
     },
     "inputWidgets": {},
     "nuid": "42e00437-a4b5-4f1a-b376-a92517ef512d",
     "showTitle": false,
     "tableResultSettingsMap": {},
     "title": ""
    }
   },
   "source": [
    "# note-.over() expects a WindowSpec object, not a string so dont write window_spec in single/double **quote**"
   ]
  },
  {
   "cell_type": "code",
   "execution_count": 0,
   "metadata": {
    "application/vnd.databricks.v1+cell": {
     "cellMetadata": {
      "byteLimit": 2048000,
      "rowLimit": 10000
     },
     "inputWidgets": {},
     "nuid": "3399ee26-f41e-4cdb-84de-c8307e52129e",
     "showTitle": false,
     "tableResultSettingsMap": {},
     "title": ""
    }
   },
   "outputs": [
    {
     "output_type": "stream",
     "name": "stdout",
     "output_type": "stream",
     "text": [
      "Out[33]: pyspark.sql.window.WindowSpec"
     ]
    }
   ],
   "source": [
    "type(window_spec)"
   ]
  },
  {
   "cell_type": "code",
   "execution_count": 0,
   "metadata": {
    "application/vnd.databricks.v1+cell": {
     "cellMetadata": {
      "byteLimit": 2048000,
      "rowLimit": 10000
     },
     "inputWidgets": {},
     "nuid": "25de97c6-d7fe-4a8c-81fb-6249da6dc774",
     "showTitle": false,
     "tableResultSettingsMap": {},
     "title": ""
    }
   },
   "outputs": [
    {
     "output_type": "stream",
     "name": "stdout",
     "output_type": "stream",
     "text": [
      "+-----------+-----------+----------------+----------+------+----------+------+-----+----+-------+\n|customer_id|       name|           email|     phone|  city|vehicle_id|  make|model|year|row_num|\n+-----------+-----------+----------------+----------+------+----------+------+-----+----+-------+\n|        101|   John Doe|john@example.com|1234567890|Mumbai|         1|Toyota|Camry|2020|      1|\n|        102| Jane Smith|jane@example.com|2345678901|  Pune|         2| Honda|Civic|2021|      1|\n|        103|Bob Johnson| bob@example.com|3456789012|Nagpur|         3|  Ford|Focus|2019|      1|\n+-----------+-----------+----------------+----------+------+----------+------+-----+----+-------+\n\n"
     ]
    }
   ],
   "source": [
    "latest_vehicle.show()"
   ]
  },
  {
   "cell_type": "code",
   "execution_count": 0,
   "metadata": {
    "application/vnd.databricks.v1+cell": {
     "cellMetadata": {
      "byteLimit": 2048000,
      "rowLimit": 10000
     },
     "inputWidgets": {},
     "nuid": "1dd86023-50b0-4573-a8e5-86f627830463",
     "showTitle": false,
     "tableResultSettingsMap": {},
     "title": ""
    }
   },
   "outputs": [],
   "source": [
    "customer_latest_vehicle_df=latest_vehicle.filter(\"row_num==1\").drop(\"row_num\")"
   ]
  },
  {
   "cell_type": "markdown",
   "metadata": {
    "application/vnd.databricks.v1+cell": {
     "cellMetadata": {
      "byteLimit": 2048000,
      "rowLimit": 10000
     },
     "inputWidgets": {},
     "nuid": "4a089075-8e56-4ade-a54d-14d6a93eb680",
     "showTitle": false,
     "tableResultSettingsMap": {},
     "title": ""
    }
   },
   "source": [
    " Why Do We Use .drop(\"row_num\")?\n",
    "After we filter only the latest row (i.e., row_num == 1),\n",
    "the row_num column is no longer needed.\n",
    "\n",
    "So we clean it up like this:\n",
    "\n",
    "python\n",
    "Copy\n",
    "Edit\n",
    "customer_latest_vehicle_df = latest_vehicle.filter(\"row_num == 1\").drop(\"row_num\")\n",
    "🔹 It's good practice to drop temporary/technical columns\n",
    "🔹 Keeps your output clean for downstream use\n",
    "🔹 Avoids confusion if you write to a Gold Delta table"
   ]
  },
  {
   "cell_type": "markdown",
   "metadata": {
    "application/vnd.databricks.v1+cell": {
     "cellMetadata": {
      "byteLimit": 2048000,
      "rowLimit": 10000
     },
     "inputWidgets": {},
     "nuid": "7aa40a10-bed4-4eda-b953-466b9539e678",
     "showTitle": false,
     "tableResultSettingsMap": {},
     "title": ""
    }
   },
   "source": [
    " Step 5: Show the final DataFrame"
   ]
  },
  {
   "cell_type": "code",
   "execution_count": 0,
   "metadata": {
    "application/vnd.databricks.v1+cell": {
     "cellMetadata": {
      "byteLimit": 2048000,
      "rowLimit": 10000
     },
     "inputWidgets": {},
     "nuid": "1845dbde-6795-479d-9d90-8422fdb32cf8",
     "showTitle": false,
     "tableResultSettingsMap": {},
     "title": ""
    }
   },
   "outputs": [
    {
     "output_type": "stream",
     "name": "stdout",
     "output_type": "stream",
     "text": [
      "+-----------+-----------+----------------+----------+------+----------+------+-----+----+\n|customer_id|       name|           email|     phone|  city|vehicle_id|  make|model|year|\n+-----------+-----------+----------------+----------+------+----------+------+-----+----+\n|        101|   John Doe|john@example.com|1234567890|Mumbai|         1|Toyota|Camry|2020|\n|        102| Jane Smith|jane@example.com|2345678901|  Pune|         2| Honda|Civic|2021|\n|        103|Bob Johnson| bob@example.com|3456789012|Nagpur|         3|  Ford|Focus|2019|\n+-----------+-----------+----------------+----------+------+----------+------+-----+----+\n\n"
     ]
    }
   ],
   "source": [
    "customer_latest_vehicle_df.show()\n"
   ]
  },
  {
   "cell_type": "markdown",
   "metadata": {
    "application/vnd.databricks.v1+cell": {
     "cellMetadata": {
      "byteLimit": 2048000,
      "rowLimit": 10000
     },
     "inputWidgets": {},
     "nuid": "77ed7834-2aed-4f74-bf4e-624e7a35df5f",
     "showTitle": false,
     "tableResultSettingsMap": {},
     "title": ""
    }
   },
   "source": [
    "write to gold layer as delta table"
   ]
  },
  {
   "cell_type": "code",
   "execution_count": 0,
   "metadata": {
    "application/vnd.databricks.v1+cell": {
     "cellMetadata": {
      "byteLimit": 2048000,
      "rowLimit": 10000
     },
     "inputWidgets": {},
     "nuid": "54696a04-a86f-4268-b817-6cc0af5e6126",
     "showTitle": false,
     "tableResultSettingsMap": {},
     "title": ""
    }
   },
   "outputs": [],
   "source": [
    "customer_latest_vehicle_df.write.format(\"delta\") \\\n",
    "                                .mode(\"overwrite\") \\\n",
    "                                .save(\"/mnt/gold/latest_vehicle_per_customer\")\n"
   ]
  },
  {
   "cell_type": "markdown",
   "metadata": {
    "application/vnd.databricks.v1+cell": {
     "cellMetadata": {
      "byteLimit": 2048000,
      "rowLimit": 10000
     },
     "inputWidgets": {},
     "nuid": "0921eee5-b01d-4243-ba89-877f3ef27d6a",
     "showTitle": false,
     "tableResultSettingsMap": {},
     "title": ""
    }
   },
   "source": [
    "verify the delta table\n"
   ]
  },
  {
   "cell_type": "code",
   "execution_count": 0,
   "metadata": {
    "application/vnd.databricks.v1+cell": {
     "cellMetadata": {
      "byteLimit": 2048000,
      "rowLimit": 10000
     },
     "inputWidgets": {},
     "nuid": "0a3ed7fe-465c-4f0c-958d-330302990e97",
     "showTitle": false,
     "tableResultSettingsMap": {},
     "title": ""
    }
   },
   "outputs": [
    {
     "output_type": "stream",
     "name": "stdout",
     "output_type": "stream",
     "text": [
      "+-----------+-----------+----------------+----------+------+----------+------+-----+----+\n|customer_id|       name|           email|     phone|  city|vehicle_id|  make|model|year|\n+-----------+-----------+----------------+----------+------+----------+------+-----+----+\n|        101|   John Doe|john@example.com|1234567890|Mumbai|         1|Toyota|Camry|2020|\n|        102| Jane Smith|jane@example.com|2345678901|  Pune|         2| Honda|Civic|2021|\n|        103|Bob Johnson| bob@example.com|3456789012|Nagpur|         3|  Ford|Focus|2019|\n+-----------+-----------+----------------+----------+------+----------+------+-----+----+\n\n"
     ]
    }
   ],
   "source": [
    "spark.read.format('delta')\\\n",
    "  .load(\"/mnt/gold/latest_vehicle_per_customer\").show()"
   ]
  },
  {
   "cell_type": "markdown",
   "metadata": {
    "application/vnd.databricks.v1+cell": {
     "cellMetadata": {
      "byteLimit": 2048000,
      "rowLimit": 10000
     },
     "inputWidgets": {},
     "nuid": "ffa9b0f6-ce37-4391-9895-57b270c152b5",
     "showTitle": false,
     "tableResultSettingsMap": {},
     "title": ""
    }
   },
   "source": [
    "Gold Table 4: Vehicle Count Per Brand\n",
    "Objective:\n",
    "Count how many vehicles each brand (make) has across all customers."
   ]
  },
  {
   "cell_type": "code",
   "execution_count": 0,
   "metadata": {
    "application/vnd.databricks.v1+cell": {
     "cellMetadata": {
      "byteLimit": 2048000,
      "rowLimit": 10000
     },
     "inputWidgets": {},
     "nuid": "cee30fd0-ed2a-4a97-a3ac-641d708496a3",
     "showTitle": false,
     "tableResultSettingsMap": {},
     "title": ""
    }
   },
   "outputs": [
    {
     "output_type": "stream",
     "name": "stdout",
     "output_type": "stream",
     "text": [
      "+------+-------------+\n|  make|vehicle_count|\n+------+-------------+\n|  Ford|            1|\n|Toyota|            1|\n| Honda|            1|\n+------+-------------+\n\n"
     ]
    }
   ],
   "source": [
    "vehicle_per_brand=customer_360_df.groupBy('make').agg(count(\"vehicle_id\").alias('vehicle_count'))\\\n",
    "  .orderBy('vehicle_count', ascending=False)\n",
    "vehicle_per_brand.show()"
   ]
  },
  {
   "cell_type": "markdown",
   "metadata": {
    "application/vnd.databricks.v1+cell": {
     "cellMetadata": {
      "byteLimit": 2048000,
      "rowLimit": 10000
     },
     "inputWidgets": {},
     "nuid": "f6057fec-fa5f-4e0a-b59b-b5e41884d606",
     "showTitle": false,
     "tableResultSettingsMap": {},
     "title": ""
    }
   },
   "source": [
    "why order by required?"
   ]
  },
  {
   "cell_type": "markdown",
   "metadata": {
    "application/vnd.databricks.v1+cell": {
     "cellMetadata": {
      "byteLimit": 2048000,
      "rowLimit": 10000
     },
     "inputWidgets": {},
     "nuid": "fdc36d2d-6984-4fd8-9aa5-ad2cdcf7bb06",
     "showTitle": false,
     "tableResultSettingsMap": {},
     "title": ""
    }
   },
   "source": [
    " Write to Gold Delta Table"
   ]
  },
  {
   "cell_type": "code",
   "execution_count": 0,
   "metadata": {
    "application/vnd.databricks.v1+cell": {
     "cellMetadata": {
      "byteLimit": 2048000,
      "rowLimit": 10000
     },
     "inputWidgets": {},
     "nuid": "9bfc1d4e-d062-4aa0-90df-dedfd8eda52f",
     "showTitle": false,
     "tableResultSettingsMap": {},
     "title": ""
    }
   },
   "outputs": [],
   "source": [
    "vehicle_per_brand.write.format('delta')\\\n",
    "                       .mode('overwrite')\\\n",
    "                       .save('/mnt/gold/vehicle_count_per_make')"
   ]
  },
  {
   "cell_type": "code",
   "execution_count": 0,
   "metadata": {
    "application/vnd.databricks.v1+cell": {
     "cellMetadata": {
      "byteLimit": 2048000,
      "rowLimit": 10000
     },
     "inputWidgets": {},
     "nuid": "3b93fd9c-ca0c-490c-86bd-8db7ea2a04ff",
     "showTitle": false,
     "tableResultSettingsMap": {},
     "title": ""
    }
   },
   "outputs": [
    {
     "output_type": "stream",
     "name": "stdout",
     "output_type": "stream",
     "text": [
      "+------+-------------+\n|  make|vehicle_count|\n+------+-------------+\n|  Ford|            1|\n|Toyota|            1|\n| Honda|            1|\n+------+-------------+\n\n"
     ]
    }
   ],
   "source": [
    "spark.read.format('delta').load('/mnt/gold/vehicle_count_per_make').show()"
   ]
  },
  {
   "cell_type": "markdown",
   "metadata": {
    "application/vnd.databricks.v1+cell": {
     "cellMetadata": {
      "byteLimit": 2048000,
      "rowLimit": 10000
     },
     "inputWidgets": {},
     "nuid": "c291a69c-fc11-49ec-9f1d-6c014661aba6",
     "showTitle": false,
     "tableResultSettingsMap": {},
     "title": ""
    }
   },
   "source": [
    "GOLD TBALE 6: CREATION OF CLEAN CONTACT_LIST"
   ]
  },
  {
   "cell_type": "code",
   "execution_count": 0,
   "metadata": {
    "application/vnd.databricks.v1+cell": {
     "cellMetadata": {
      "byteLimit": 2048000,
      "rowLimit": 10000
     },
     "inputWidgets": {},
     "nuid": "da801ab3-8522-4fd8-af91-f7b3deea5ecb",
     "showTitle": false,
     "tableResultSettingsMap": {},
     "title": ""
    }
   },
   "outputs": [],
   "source": [
    "clean_contact_list=customer_df_clean.select(\n",
    "    \"customer_id\", \"name\", \"email\", \"phone\", \"city\"\n",
    ")\n"
   ]
  }
 ],
 "metadata": {
  "application/vnd.databricks.v1+notebook": {
   "computePreferences": null,
   "dashboards": [],
   "environmentMetadata": {
    "base_environment": "",
    "environment_version": "1"
   },
   "inputWidgetPreferences": null,
   "language": "python",
   "notebookMetadata": {
    "pythonIndentUnit": 4
   },
   "notebookName": "CUSTOMER360_INJECTION_2025-06-12 09:44:01",
   "widgets": {}
  }
 },
 "nbformat": 4,
 "nbformat_minor": 0
}